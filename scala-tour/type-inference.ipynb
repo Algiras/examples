{
 "cells": [
  {
   "cell_type": "markdown",
   "metadata": {},
   "source": [
    "---\n",
    "layout: tour\n",
    "title: Type Inference\n",
    "\n",
    "discourse: true\n",
    "\n",
    "partof: scala-tour\n",
    "\n",
    "num: 29\n",
    "next-page: operators\n",
    "previous-page: polymorphic-methods\n",
    "---\n",
    "\n",
    "The Scala compiler can often infer the type of an expression so you don't have to declare it explicitly.\n",
    "\n",
    "## Omitting the type"
   ]
  },
  {
   "cell_type": "code",
   "execution_count": null,
   "metadata": {
    "attributes": {
     "classes": [
      "tut"
     ],
     "id": ""
    }
   },
   "outputs": [],
   "source": [
    "val businessName = \"Montreux Jazz Café\""
   ]
  },
  {
   "cell_type": "markdown",
   "metadata": {},
   "source": [
    "The compiler can detect that `businessName` is a String. It works similarly with methods:"
   ]
  },
  {
   "cell_type": "code",
   "execution_count": null,
   "metadata": {
    "attributes": {
     "classes": [
      "tut"
     ],
     "id": ""
    }
   },
   "outputs": [],
   "source": [
    "def squareOf(x: Int) = x * x"
   ]
  },
  {
   "cell_type": "markdown",
   "metadata": {},
   "source": [
    "The compiler can infer that the return type is an `Int`, so no explicit return type is required.\n",
    "\n",
    "For recursive methods, the compiler is not able to infer a result type. Here is a program which will fail the compiler for this reason:"
   ]
  },
  {
   "cell_type": "code",
   "execution_count": null,
   "metadata": {
    "attributes": {
     "classes": [
      "tut:fail"
     ],
     "id": ""
    }
   },
   "outputs": [],
   "source": [
    "def fac(n: Int) = if (n == 0) 1 else n * fac(n - 1)"
   ]
  },
  {
   "cell_type": "markdown",
   "metadata": {},
   "source": [
    "It is also not compulsory to specify type parameters when [polymorphic methods](polymorphic-methods.html) are called or [generic classes](generic-classes.html) are instantiated. The Scala compiler will infer such missing type parameters from the context and from the types of the actual method/constructor parameters.\n",
    "\n",
    "Here are two examples:"
   ]
  },
  {
   "cell_type": "code",
   "execution_count": null,
   "metadata": {
    "attributes": {
     "classes": [
      "tut"
     ],
     "id": ""
    }
   },
   "outputs": [],
   "source": [
    "case class MyPair[A, B](x: A, y: B);\n",
    "val p = MyPair(1, \"scala\") // type: MyPair[Int, String]\n",
    "\n",
    "def id[T](x: T) = x\n",
    "val q = id(1)              // type: Int"
   ]
  },
  {
   "cell_type": "markdown",
   "metadata": {},
   "source": [
    "The compiler uses the types of the arguments of `MyPair` to figure out what type `A` and `B` are. Likewise for the type of `x`.\n",
    "\n",
    "## Parameters\n",
    "\n",
    "The compiler never infers method parameter types. However, in certain cases, it can infer anonymous function parameter types when the function is passed as argument."
   ]
  },
  {
   "cell_type": "code",
   "execution_count": null,
   "metadata": {
    "attributes": {
     "classes": [
      "tut"
     ],
     "id": ""
    }
   },
   "outputs": [],
   "source": [
    "Seq(1, 3, 4).map(x => x * 2)  // List(2, 6, 8)"
   ]
  },
  {
   "cell_type": "markdown",
   "metadata": {},
   "source": [
    "The parameter for map is `f: A => B`. Because we put integers in the `Seq`, the compiler knows that `A` is `Int` (i.e. that `x` is an integer). Therefore, the compiler can infer from `x * 2` that `B` is type `Int`.\n",
    "\n",
    "## When _not_ to rely on type inference\n",
    "\n",
    "It is generally considered more readable to declare the type of members exposed in a public API.  Therefore, we recommended that you make the type explicit for any APIs that will be exposed to users of your code.\n",
    "\n",
    "Also, type inference can sometimes infer a too-specific type.  Suppose we write:"
   ]
  },
  {
   "cell_type": "code",
   "execution_count": null,
   "metadata": {
    "attributes": {
     "classes": [
      "tut"
     ],
     "id": ""
    }
   },
   "outputs": [],
   "source": [
    "var obj = null"
   ]
  },
  {
   "cell_type": "markdown",
   "metadata": {},
   "source": [
    "We can't then go on and make this reassignment:"
   ]
  },
  {
   "cell_type": "code",
   "execution_count": null,
   "metadata": {
    "attributes": {
     "classes": [
      "tut:fail"
     ],
     "id": ""
    }
   },
   "outputs": [],
   "source": [
    "obj = new AnyRef"
   ]
  },
  {
   "cell_type": "markdown",
   "metadata": {},
   "source": [
    "It won't compile, because the type inferred for `obj` was `Null`. Since the only value of that type is `null`, it is impossible to assign a different value."
   ]
  }
 ],
 "metadata": {
  "kernelspec": {
   "display_name": "Scala",
   "language": "scala",
   "name": "scala"
  },
  "language_info": {
   "codemirror_mode": "text/x-scala",
   "file_extension": ".scala",
   "mimetype": "text/x-scala",
   "name": "scala",
   "nbconvert_exporter": "script",
   "version": "2.12.7"
  }
 },
 "nbformat": 4,
 "nbformat_minor": 2
}
