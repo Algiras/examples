{
 "cells": [
  {
   "cell_type": "markdown",
   "metadata": {},
   "source": [
    "---\n",
    "layout: tour\n",
    "title: Polymorphic Methods\n",
    "\n",
    "discourse: true\n",
    "\n",
    "partof: scala-tour\n",
    "\n",
    "num: 28\n",
    "\n",
    "next-page: type-inference\n",
    "previous-page: implicit-conversions\n",
    "prerequisite-knowledge: unified-types\n",
    "\n",
    "redirect_from: \"/tutorials/tour/polymorphic-methods.html\"\n",
    "---\n",
    "\n",
    "Methods in Scala can be parameterized by type as well as value. The syntax is similar to that of generic classes. Type parameters are enclosed in square brackets, while value parameters are enclosed in parentheses.\n",
    "\n",
    "Here is an example:"
   ]
  },
  {
   "cell_type": "code",
   "execution_count": null,
   "metadata": {
    "attributes": {
     "classes": [
      "tut"
     ],
     "id": ""
    }
   },
   "outputs": [],
   "source": [
    "def listOfDuplicates[A](x: A, length: Int): List[A] = {\n",
    "  if (length < 1)\n",
    "    Nil\n",
    "  else\n",
    "    x :: listOfDuplicates(x, length - 1)\n",
    "}\n",
    "println(listOfDuplicates[Int](3, 4))  // List(3, 3, 3, 3)\n",
    "println(listOfDuplicates(\"La\", 8))  // List(La, La, La, La, La, La, La, La)"
   ]
  },
  {
   "cell_type": "markdown",
   "metadata": {},
   "source": [
    "The method `listOfDuplicates` takes a type parameter `A` and value parameters `x` and `length`. Value `x` is of type `A`. If `length < 1` we return an empty list. Otherwise we prepend `x` to the the list of duplicates returned by the recursive call. (Note that `::` means prepend an element on the left to a list on the right.)\n",
    "\n",
    "In first example call, we explicitly provide the type parameter by writing `[Int]`. Therefore the first argument must be an `Int` and the return type will be `List[Int]`.\n",
    "\n",
    "The second example call shows that you don't always need to explicitly provide the type parameter.  The compiler can often infer it based on context or on the types of the value arguments.  In this example, `\"La\"` is a `String` so the compiler knows `A` must be `String`."
   ]
  }
 ],
 "metadata": {
  "kernelspec": {
   "display_name": "Scala",
   "language": "scala",
   "name": "scala"
  },
  "language_info": {
   "codemirror_mode": "text/x-scala",
   "file_extension": ".scala",
   "mimetype": "text/x-scala",
   "name": "scala",
   "nbconvert_exporter": "script",
   "version": "2.12.7"
  }
 },
 "nbformat": 4,
 "nbformat_minor": 2
}
