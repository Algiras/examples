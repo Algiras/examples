{
 "cells": [
  {
   "cell_type": "markdown",
   "metadata": {},
   "source": [
    "---\n",
    "layout: tour\n",
    "title: Named Arguments\n",
    "\n",
    "discourse: true\n",
    "\n",
    "partof: scala-tour\n",
    "\n",
    "num: 34\n",
    "next-page: packages-and-imports\n",
    "previous-page: default-parameter-values\n",
    "prerequisite-knowledge: function-syntax\n",
    "\n",
    "redirect_from: \"/tutorials/tour/named-arguments.html\"\n",
    "---\n",
    "\n",
    "When calling methods, you can label the arguments with their parameter names like so:"
   ]
  },
  {
   "cell_type": "code",
   "execution_count": null,
   "metadata": {
    "attributes": {
     "classes": [
      "tut"
     ],
     "id": ""
    }
   },
   "outputs": [],
   "source": [
    "def printName(first: String, last: String): Unit = {\n",
    "  println(first + \" \" + last)\n",
    "}\n",
    "\n",
    "printName(\"John\", \"Smith\")  // Prints \"John Smith\"\n",
    "printName(first = \"John\", last = \"Smith\")  // Prints \"John Smith\"\n",
    "printName(last = \"Smith\", first = \"John\")  // Prints \"John Smith\""
   ]
  },
  {
   "cell_type": "markdown",
   "metadata": {},
   "source": [
    "Notice how the order of named arguments can be rearranged. However, if some arguments are named and others are not, the unnamed arguments must come first and in the order of their parameters in the method signature."
   ]
  },
  {
   "cell_type": "code",
   "execution_count": null,
   "metadata": {
    "attributes": {
     "classes": [
      "tut:fail"
     ],
     "id": ""
    }
   },
   "outputs": [],
   "source": [
    "printName(last = \"Smith\", \"john\") // error: positional after named argument"
   ]
  },
  {
   "cell_type": "markdown",
   "metadata": {},
   "source": [
    "Note that named arguments do not work with calls to Java methods."
   ]
  }
 ],
 "metadata": {},
 "nbformat": 4,
 "nbformat_minor": 2
}
