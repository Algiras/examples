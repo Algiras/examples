{
 "cells": [
  {
   "cell_type": "markdown",
   "metadata": {
    
   },
   "source": [
    "<p style=\"float: left;\"><a href=\"default-parameter-values.ipynb\" target=\"_blank\">Previous</a></p>\n",
    "<p style=\"float: right;\"><a href=\"packages-and-imports.ipynb\" target=\"_blank\">Next</a></p>\n",
    "<p style=\"text-align:center;\">Tour of Scala</p>\n",
    "<div style=\"clear: both;\"></div>\n",
    "\n",
    "# Named Arguments\n",
    "\n",
    "When calling methods, you can label the arguments with their parameter names like so:"
   ]
  },
  {
   "cell_type": "code",
   "execution_count": null,
   "metadata": {
    "attributes": {
     "classes": [
      "tut"
     ],
     "id": ""
    }
   },
   "outputs": [
    
   ],
   "source": [
    "def printName(first: String, last: String): Unit = {\n",
    "  println(first + \" \" + last)\n",
    "}\n",
    "\n",
    "printName(\"John\", \"Smith\")  // Prints \"John Smith\"\n",
    "printName(first = \"John\", last = \"Smith\")  // Prints \"John Smith\"\n",
    "printName(last = \"Smith\", first = \"John\")  // Prints \"John Smith\""
   ]
  },
  {
   "cell_type": "markdown",
   "metadata": {
    
   },
   "source": [
    "Notice how the order of named arguments can be rearranged. However, if some arguments are named and others are not, the unnamed arguments must come first and in the order of their parameters in the method signature."
   ]
  },
  {
   "cell_type": "code",
   "execution_count": null,
   "metadata": {
    "attributes": {
     "classes": [
      "tut"
     ],
     "id": ""
    }
   },
   "outputs": [
    
   ],
   "source": [
    "printName(last = \"Smith\", \"john\") // error: positional after named argument"
   ]
  },
  {
   "cell_type": "markdown",
   "metadata": {
    
   },
   "source": [
    "Note that named arguments do not work with calls to Java methods.\n",
    "<p style=\"float: left;\"><a href=\"default-parameter-values.ipynb\" target=\"_blank\">Previous</a></p>\n",
    "<p style=\"float: right;\"><a href=\"packages-and-imports.ipynb\" target=\"_blank\">Next</a></p>\n",
    "<p style=\"text-align:center;\">Tour of Scala</p>\n",
    "<div style=\"clear: both;\"></div>"
   ]
  }
 ],
 "metadata": {
  "kernelspec": {
   "display_name": "Scala",
   "language": "scala",
   "name": "scala"
  },
  "language_info": {
   "codemirror_mode": "text/x-scala",
   "file_extension": ".scala",
   "mimetype": "text/x-scala",
   "name": "scala",
   "nbconvert_exporter": "script",
   "version": "2.12.8"
  }
 },
 "nbformat": 4,
 "nbformat_minor": 2
}