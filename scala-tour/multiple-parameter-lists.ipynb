{
 "cells": [
  {
   "cell_type": "markdown",
   "metadata": {},
   "source": [
    "---\n",
    "layout: tour\n",
    "title: Multiple Parameter Lists (Currying)\n",
    "\n",
    "discourse: true\n",
    "\n",
    "partof: scala-tour\n",
    "\n",
    "num: 10\n",
    "next-page: case-classes\n",
    "previous-page: nested-functions\n",
    "\n",
    "redirect_from: \"/tutorials/tour/multiple-parameter-lists.html\"\n",
    "---\n",
    "\n",
    "Methods may define multiple parameter lists. When a method is called with a fewer number of parameter lists, then this will yield a function taking the missing parameter lists as its arguments. This is formally known as [currying](https://en.wikipedia.org/wiki/Currying).\n",
    "\n",
    "Here is an example, defined in [Traversable](/overviews/collections/trait-traversable.html) trait from Scala collections:"
   ]
  },
  {
   "cell_type": "code",
   "execution_count": null,
   "metadata": {},
   "outputs": [],
   "source": [
    "def foldLeft[B](z: B)(op: (B, A) => B): B"
   ]
  },
  {
   "cell_type": "markdown",
   "metadata": {},
   "source": [
    "`foldLeft` applies a binary operator `op` to an initial value `z` and all elements of this traversable, going left to right. Shown below is an example of its usage. \n",
    "\n",
    "Starting with an initial value of 0, `foldLeft` here applies the function `(m, n) => m + n` to each element in the List and the previous accumulated value."
   ]
  },
  {
   "cell_type": "code",
   "execution_count": null,
   "metadata": {
    "attributes": {
     "classes": [
      "tut"
     ],
     "id": ""
    }
   },
   "outputs": [],
   "source": [
    "val numbers = List(1, 2, 3, 4, 5, 6, 7, 8, 9, 10)\n",
    "val res = numbers.foldLeft(0)((m, n) => m + n)\n",
    "print(res) // 55"
   ]
  },
  {
   "cell_type": "markdown",
   "metadata": {},
   "source": [
    "Multiple parameter lists have a more verbose invocation syntax; and hence should be used sparingly. Suggested use cases include:\n",
    "\n",
    "#### Single functional parameter\n",
    "   In case of a single functional parameter, like `op` in the case of `foldLeft` above, multiple parameter lists allow a concise syntax to pass an anonymous function to the method. Without multiple parameter lists, the code would look like this:"
   ]
  },
  {
   "cell_type": "code",
   "execution_count": null,
   "metadata": {},
   "outputs": [],
   "source": [
    "numbers.foldLeft(0, {(m: Int, n: Int) => m + n})"
   ]
  },
  {
   "cell_type": "markdown",
   "metadata": {},
   "source": [
    "Note that the use of multiple parameter lists here also allows us to take advantage of Scala type inference to make the code more concise as shown below; which would not be possible in a non-curried definition."
   ]
  },
  {
   "cell_type": "code",
   "execution_count": null,
   "metadata": {},
   "outputs": [],
   "source": [
    "numbers.foldLeft(0)(_ + _)"
   ]
  },
  {
   "cell_type": "markdown",
   "metadata": {},
   "source": [
    "Above statement `numbers.foldLeft(0)(_ + _)` allows us to fix the parameter `z` and pass around a partial function and reuse it as shown below:"
   ]
  },
  {
   "cell_type": "code",
   "execution_count": null,
   "metadata": {
    "attributes": {
     "classes": [
      "tut"
     ],
     "id": ""
    }
   },
   "outputs": [],
   "source": [
    "val numbers = List(1, 2, 3, 4, 5, 6, 7, 8, 9, 10)\n",
    "val numberFunc = numbers.foldLeft(List[Int]())_\n",
    "\n",
    "val squares = numberFunc((xs, x) => xs:+ x*x)\n",
    "print(squares.toString()) // List(1, 4, 9, 16, 25, 36, 49, 64, 81, 100)\n",
    "\n",
    "val cubes = numberFunc((xs, x) => xs:+ x*x*x)\n",
    "print(cubes.toString())  // List(1, 8, 27, 64, 125, 216, 343, 512, 729, 1000)"
   ]
  },
  {
   "cell_type": "markdown",
   "metadata": {},
   "source": [
    "Finally, `foldLeft` and `foldRight` can be used in any of the following terms,"
   ]
  },
  {
   "cell_type": "code",
   "execution_count": null,
   "metadata": {
    "attributes": {
     "classes": [
      "tut"
     ],
     "id": ""
    }
   },
   "outputs": [],
   "source": [
    "val numbers = List(1, 2, 3, 4, 5, 6, 7, 8, 9, 10)\n",
    "\n",
    "numbers.foldLeft(0)((sum, item) => sum + item) // Generic Form\n",
    "numbers.foldRight(0)((sum, item) => sum + item) // Generic Form\n",
    "\n",
    "numbers.foldLeft(0)(_+_) // Curried Form\n",
    "numbers.foldRight(0)(_+_) // Curried Form\n",
    "\n",
    "(0 /: numbers)(_+_) // Used in place of foldLeft\n",
    "(numbers :\\ 0)(_+_) // Used in place of foldRight\n",
    "```   \n",
    "\n",
    "   \n",
    "#### Implicit parameters\n",
    "   To specify certain parameters in a parameter list as `implicit`, multiple parameter lists should be used. An example of this is:\n"
   ]
  },
  {
   "cell_type": "markdown",
   "metadata": {},
   "source": [
    "def execute(arg: Int)(implicit ec: ExecutionContext) = ???\n",
    "```"
   ]
  }
 ],
 "metadata": {
  "kernelspec": {
   "display_name": "Scala",
   "language": "scala",
   "name": "scala"
  },
  "language_info": {
   "codemirror_mode": "text/x-scala",
   "file_extension": ".scala",
   "mimetype": "text/x-scala",
   "name": "scala",
   "nbconvert_exporter": "script",
   "version": "2.12.7"
  }
 },
 "nbformat": 4,
 "nbformat_minor": 2
}
