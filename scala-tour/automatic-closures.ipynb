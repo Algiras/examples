{
 "cells": [
  {
   "cell_type": "markdown",
   "metadata": {},
   "source": [
    "---\n",
    "layout: tour\n",
    "title: Automatic Type-Dependent Closure Construction\n",
    "\n",
    "discourse: true\n",
    "\n",
    "partof: scala-tour\n",
    "---\n",
    "\n",
    "Scala allows parameterless function names as parameters of methods. When such a method is called, the actual parameters for parameterless function names are not evaluated and a nullary function is passed instead which encapsulates the computation of the corresponding parameter (so-called *call-by-name* evalutation).\n",
    "\n",
    "The following code demonstrates this mechanism:"
   ]
  },
  {
   "cell_type": "code",
   "execution_count": null,
   "metadata": {},
   "outputs": [],
   "source": [
    "object TargetTest1 extends Application {\n",
    "  def whileLoop(cond: => Boolean)(body: => Unit): Unit =\n",
    "    if (cond) {\n",
    "      body\n",
    "      whileLoop(cond)(body)\n",
    "    }\n",
    "  var i = 10\n",
    "  whileLoop (i > 0) {\n",
    "    println(i)\n",
    "    i -= 1\n",
    "  }\n",
    "}"
   ]
  },
  {
   "cell_type": "markdown",
   "metadata": {},
   "source": [
    "The function whileLoop takes two parameters `cond` and `body`. When the function is applied, the actual parameters do not get evaluated. But whenever the formal parameters are used in the body of `whileLoop`, the implicitly created nullary functions will be evaluated instead. Thus, our method `whileLoop` implements a Java-like while-loop with a recursive implementation scheme.\n",
    "\n",
    "We can combine the use of [infix/postfix operators](operators.html) with this mechanism to create more complex statements (with a nice syntax).\n",
    "\n",
    "Here is the implementation of a loop-unless statement:"
   ]
  },
  {
   "cell_type": "code",
   "execution_count": null,
   "metadata": {},
   "outputs": [],
   "source": [
    "object TargetTest2 extends Application {\n",
    "  def loop(body: => Unit): LoopUnlessCond =\n",
    "    new LoopUnlessCond(body)\n",
    "  protected class LoopUnlessCond(body: => Unit) {\n",
    "    def unless(cond: => Boolean) {\n",
    "      body\n",
    "      if (!cond) unless(cond)\n",
    "    }\n",
    "  }\n",
    "  var i = 10\n",
    "  loop {\n",
    "    println(\"i = \" + i)\n",
    "    i -= 1\n",
    "  } unless (i == 0)\n",
    "}\n",
    "The `loop` function just accepts a body of a loop and returns an instance of class `LoopUnlessCond` (which encapsulates this body object). Note that the body didn't get evaluated yet. Class `LoopUnlessCond` has a method `unless` which we can use as a *infix operator*. This way, we achieve a quite natural syntax for our new loop: `loop { < stats > } unless ( < cond > )`."
   ]
  },
  {
   "cell_type": "markdown",
   "metadata": {},
   "source": [
    "Here's the output when `TargetTest2` gets executed:"
   ]
  },
  {
   "cell_type": "code",
   "execution_count": null,
   "metadata": {},
   "outputs": [],
   "source": [
    "i = 10\n",
    "i = 9\n",
    "i = 8\n",
    "i = 7\n",
    "i = 6\n",
    "i = 5\n",
    "i = 4\n",
    "i = 3\n",
    "i = 2\n",
    "i = 1"
   ]
  }
 ],
 "metadata": {
  "kernelspec": {
   "display_name": "Scala",
   "language": "scala",
   "name": "scala"
  },
  "language_info": {
   "codemirror_mode": "text/x-scala",
   "file_extension": ".scala",
   "mimetype": "text/x-scala",
   "name": "scala",
   "nbconvert_exporter": "script",
   "version": "2.12.7"
  }
 },
 "nbformat": 4,
 "nbformat_minor": 2
}
