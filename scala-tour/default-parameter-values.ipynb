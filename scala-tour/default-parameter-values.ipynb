{
 "cells": [
  {
   "cell_type": "markdown",
   "metadata": {
    
   },
   "source": [
    "<p style=\"float: left;\"><a href=\"annotations.ipynb\" target=\"_blank\">Previous</a></p>\n",
    "<p style=\"float: right;\"><a href=\"named-arguments.ipynb\" target=\"_blank\">Next</a></p>\n",
    "<p style=\"text-align:center;\">Tour of Scala</p>\n",
    "<div style=\"clear: both;\"></div>\n",
    "\n",
    "# Default Parameter Values\n",
    "\n",
    "Scala provides the ability to give parameters default values that can be used to allow a caller to omit those parameters."
   ]
  },
  {
   "cell_type": "code",
   "execution_count": null,
   "metadata": {
    "attributes": {
     "classes": [
      "tut"
     ],
     "id": ""
    }
   },
   "outputs": [
    
   ],
   "source": [
    "def log(message: String, level: String = \"INFO\") = println(s\"$level: $message\")\n",
    "\n",
    "log(\"System starting\")  // prints INFO: System starting\n",
    "log(\"User not found\", \"WARNING\")  // prints WARNING: User not found"
   ]
  },
  {
   "cell_type": "markdown",
   "metadata": {
    
   },
   "source": [
    "The parameter `level` has a default value so it is optional. On the last line, the argument `\"WARNING\"` overrides the default argument `\"INFO\"`. Where you might do overloaded methods in Java, you can use methods with optional parameters to achieve the same effect. However, if the caller omits an argument, any following arguments must be named."
   ]
  },
  {
   "cell_type": "code",
   "execution_count": null,
   "metadata": {
    "attributes": {
     "classes": [
      "tut"
     ],
     "id": ""
    }
   },
   "outputs": [
    
   ],
   "source": [
    "class Point(val x: Double = 0, val y: Double = 0)\n",
    "\n",
    "val point1 = new Point(y = 1)"
   ]
  },
  {
   "cell_type": "markdown",
   "metadata": {
    
   },
   "source": [
    "Here we have to say `y = 1`.\n",
    "\n",
    "Note that default parameters in Scala are not optional when called from Java code:"
   ]
  },
  {
   "cell_type": "code",
   "execution_count": null,
   "metadata": {
    "attributes": {
     "classes": [
      "tut"
     ],
     "id": ""
    }
   },
   "outputs": [
    
   ],
   "source": [
    "// Point.scala\n",
    "class Point(val x: Double = 0, val y: Double = 0)"
   ]
  },
  {
   "cell_type": "markdown",
   "metadata": {
    
   },
   "source": [
    "```java\n",
    "// Main.java\n",
    "public class Main {\n",
    "    public static void main(String[] args) {\n",
    "        Point point = new Point(1);  // does not compile\n",
    "    }\n",
    "}\n",
    "```\n"
   ]
  },
  {
   "cell_type": "markdown",
   "metadata": {
    
   },
   "source": [
    "<p style=\"float: left;\"><a href=\"annotations.ipynb\" target=\"_blank\">Previous</a></p>\n",
    "<p style=\"float: right;\"><a href=\"named-arguments.ipynb\" target=\"_blank\">Next</a></p>\n",
    "<p style=\"text-align:center;\">Tour of Scala</p>\n",
    "<div style=\"clear: both;\"></div>"
   ]
  }
 ],
 "metadata": {
  "kernelspec": {
   "display_name": "Scala",
   "language": "scala",
   "name": "scala"
  },
  "language_info": {
   "codemirror_mode": "text/x-scala",
   "file_extension": ".scala",
   "mimetype": "text/x-scala",
   "name": "scala",
   "nbconvert_exporter": "script",
   "version": "2.12.7"
  }
 },
 "nbformat": 4,
 "nbformat_minor": 2
}