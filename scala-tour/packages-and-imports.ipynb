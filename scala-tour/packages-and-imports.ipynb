{
 "cells": [
  {
   "cell_type": "markdown",
   "metadata": {},
   "source": [
    "---\n",
    "layout: tour\n",
    "title: Packages and Imports\n",
    "\n",
    "discourse: true\n",
    "\n",
    "partof: scala-tour\n",
    "\n",
    "num: 35\n",
    "previous-page: named-arguments\n",
    "next-page: package-objects\n",
    "---\n",
    "\n",
    "# Packages and Imports\n",
    "Scala uses packages to create namespaces which allow you to modularize programs.\n",
    "\n",
    "## Creating a package\n",
    "Packages are created by declaring one or more package names at the top of a Scala file."
   ]
  },
  {
   "cell_type": "code",
   "execution_count": null,
   "metadata": {},
   "outputs": [],
   "source": [
    "package users\n",
    "\n",
    "class User"
   ]
  },
  {
   "cell_type": "markdown",
   "metadata": {},
   "source": [
    "One convention is to name the package the same as the directory containing the Scala file. However, Scala is agnostic to file layout. The directory structure of an sbt project for `package users` might look like this:"
   ]
  },
  {
   "cell_type": "code",
   "execution_count": null,
   "metadata": {},
   "outputs": [],
   "source": [
    "- ExampleProject\n",
    "  - build.sbt\n",
    "  - project\n",
    "  - src\n",
    "    - main\n",
    "      - scala\n",
    "        - users\n",
    "          User.scala\n",
    "          UserProfile.scala\n",
    "          UserPreferences.scala\n",
    "    - test"
   ]
  },
  {
   "cell_type": "markdown",
   "metadata": {},
   "source": [
    "Notice how the `users` directory is within the `scala` directory and how there are multiple Scala files within the package. Each Scala file in the package could have the same package declaration. The other way to declare packages is by using braces:"
   ]
  },
  {
   "cell_type": "code",
   "execution_count": null,
   "metadata": {},
   "outputs": [],
   "source": [
    "package users {\n",
    "  package administrators {\n",
    "    class NormalUser\n",
    "  }\n",
    "  package normalusers {\n",
    "    class NormalUser\n",
    "  }\n",
    "}"
   ]
  },
  {
   "cell_type": "markdown",
   "metadata": {},
   "source": [
    "As you can see, this allows for package nesting and provides greater control for scope and encapsulation.\n",
    "\n",
    "The package name should be all lower case and if the code is being developed within an organization which has a website, it should be the following format convention: `<top-level-domain>.<domain-name>.<project-name>`. For example, if Google had a project called `SelfDrivingCar`, the package name would look like this:"
   ]
  },
  {
   "cell_type": "code",
   "execution_count": null,
   "metadata": {},
   "outputs": [],
   "source": [
    "package com.google.selfdrivingcar.camera\n",
    "\n",
    "class Lens"
   ]
  },
  {
   "cell_type": "markdown",
   "metadata": {},
   "source": [
    "This could correspond to the following directory structure: `SelfDrivingCar/src/main/scala/com/google/selfdrivingcar/camera/Lens.scala`.\n",
    "\n",
    "## Imports\n",
    "`import` clauses are for accessing members (classes, traits, functions, etc.) in other packages. An `import` clause is not required for accessing members of the same package. Import clauses are selective:"
   ]
  },
  {
   "cell_type": "code",
   "execution_count": null,
   "metadata": {},
   "outputs": [],
   "source": [
    "import users._  // import everything from the users package\n",
    "import users.User  // import the class User\n",
    "import users.{User, UserPreferences}  // Only imports selected members\n",
    "import users.{UserPreferences => UPrefs}  // import and rename for convenience"
   ]
  },
  {
   "cell_type": "markdown",
   "metadata": {},
   "source": [
    "One way in which Scala is different from Java is that imports can be used anywhere:"
   ]
  },
  {
   "cell_type": "code",
   "execution_count": null,
   "metadata": {
    "attributes": {
     "classes": [
      "tut"
     ],
     "id": ""
    }
   },
   "outputs": [],
   "source": [
    "def sqrtplus1(x: Int) = {\n",
    "  import scala.math.sqrt\n",
    "  sqrt(x) + 1.0\n",
    "}"
   ]
  },
  {
   "cell_type": "markdown",
   "metadata": {},
   "source": [
    "In the event there is a naming conflict and you need to import something from the root of the project, prefix the package name with `_root_`:"
   ]
  },
  {
   "cell_type": "code",
   "execution_count": null,
   "metadata": {},
   "outputs": [],
   "source": [
    "package accounts\n",
    "\n",
    "import _root_.users._"
   ]
  },
  {
   "cell_type": "markdown",
   "metadata": {},
   "source": [
    "Note: The `scala` and `java.lang` packages as well as `object Predef` are imported by default."
   ]
  }
 ],
 "metadata": {
  "kernelspec": {
   "display_name": "Scala",
   "language": "scala",
   "name": "scala"
  },
  "language_info": {
   "codemirror_mode": "text/x-scala",
   "file_extension": ".scala",
   "mimetype": "text/x-scala",
   "name": "scala",
   "nbconvert_exporter": "script",
   "version": "2.12.7"
  }
 },
 "nbformat": 4,
 "nbformat_minor": 2
}
