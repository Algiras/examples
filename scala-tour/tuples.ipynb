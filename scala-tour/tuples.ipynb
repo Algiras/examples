{
 "cells": [
  {
   "cell_type": "markdown",
   "metadata": {},
   "source": [
    "---\n",
    "layout: tour\n",
    "title: Tuples\n",
    "\n",
    "discourse: true\n",
    "\n",
    "partof: scala-tour\n",
    "\n",
    "num: 6\n",
    "next-page: mixin-class-composition\n",
    "previous-page: traits\n",
    "topics: tuples\n",
    "\n",
    "redirect_from: \"/tutorials/tour/tuples.html\"\n",
    "---\n",
    "\n",
    "In Scala, a tuple is a class that can hold elements of different types.\n",
    "Tuples are immutable.\n",
    "\n",
    "Tuples come in handy when we have to return multiple values from a function.\n",
    "\n",
    "A tuple can be created as:"
   ]
  },
  {
   "cell_type": "code",
   "execution_count": null,
   "metadata": {
    "attributes": {
     "classes": [
      "tut"
     ],
     "id": ""
    }
   },
   "outputs": [],
   "source": [
    "val ingredient = (\"Sugar\" , 25):Tuple2[String, Int]"
   ]
  },
  {
   "cell_type": "markdown",
   "metadata": {},
   "source": [
    "This creates a tuple containing a String element and an Int element.\n",
    "\n",
    "Tuple in Scala is a series of classes: Tuple2, Tuple3, etc., through Tuple22.\n",
    "So when we create a tuple with n elements(n lying between 2 and 22), Scala basically instantiates\n",
    "one of the corresponding classes from the group, parameterized with types of constituent elements.\n",
    "For eg., ingredient is of type Tuple2[String, Int].\n",
    "\n",
    "## Accessing the elements\n",
    "\n",
    "Tuple elements are accessed using underscore syntax.\n",
    "'tuple._n' gives nth element(given there are that many elements)."
   ]
  },
  {
   "cell_type": "code",
   "execution_count": null,
   "metadata": {
    "attributes": {
     "classes": [
      "tut"
     ],
     "id": ""
    }
   },
   "outputs": [],
   "source": [
    "println(ingredient._1) // Sugar\n",
    "\n",
    "println(ingredient._2) // 25"
   ]
  },
  {
   "cell_type": "markdown",
   "metadata": {},
   "source": [
    "## Destructuring tuple data\n",
    "\n",
    "Scala tuple also supports destructuring."
   ]
  },
  {
   "cell_type": "code",
   "execution_count": null,
   "metadata": {
    "attributes": {
     "classes": [
      "tut"
     ],
     "id": ""
    }
   },
   "outputs": [],
   "source": [
    "val (name, quantity) = ingredient\n",
    "\n",
    "println(name) // Sugar\n",
    "\n",
    "println(quantity) // 25"
   ]
  },
  {
   "cell_type": "markdown",
   "metadata": {},
   "source": [
    "Tuple destructuring can be used in pattern matching too."
   ]
  },
  {
   "cell_type": "code",
   "execution_count": null,
   "metadata": {
    "attributes": {
     "classes": [
      "tut"
     ],
     "id": ""
    }
   },
   "outputs": [],
   "source": [
    "val planetDistanceFromSun = List((\"Mercury\", 57.9), (\"Venus\", 108.2), (\"Earth\", 149.6 ), (\"Mars\", 227.9), (\"Jupiter\", 778.3))\n",
    "\n",
    "planetDistanceFromSun.foreach{ tuple => {\n",
    "  \n",
    "  tuple match {\n",
    "    \n",
    "      case (\"Mercury\", distance) => println(s\"Mercury is $distance millions km far from Sun\")\n",
    "      \n",
    "      case p if(p._1 == \"Venus\") => println(s\"Venus is ${p._2} millions km far from Sun\")\n",
    "      \n",
    "      case p if(p._1 == \"Earth\") => println(s\"Blue planet is ${p._2} millions km far from Sun\")\n",
    "      \n",
    "      case _ => println(\"Too far....\")\n",
    "      \n",
    "    }\n",
    "    \n",
    "  }\n",
    "  \n",
    "}"
   ]
  },
  {
   "cell_type": "markdown",
   "metadata": {},
   "source": [
    "Or, in 'for' comprehension."
   ]
  },
  {
   "cell_type": "code",
   "execution_count": null,
   "metadata": {
    "attributes": {
     "classes": [
      "tut"
     ],
     "id": ""
    }
   },
   "outputs": [],
   "source": [
    "val numPairs = List((2, 5), (3, -7), (20, 56))\n",
    "\n",
    "for ((a, b) <- numPairs) {\n",
    "\n",
    "  println(a * b)\n",
    "  \n",
    "}"
   ]
  },
  {
   "cell_type": "markdown",
   "metadata": {},
   "source": [
    "The value () of type Unit is conceptually the same as the value () of type Tuple0. There can only be one value of this type since it has no elements.\n",
    "\n",
    "Users may sometimes find hard to choose between Tuples and case classes. As a rule, case classes are preferred choice if elements carry more meaning."
   ]
  }
 ],
 "metadata": {},
 "nbformat": 4,
 "nbformat_minor": 2
}
