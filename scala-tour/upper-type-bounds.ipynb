{
 "cells": [
  {
   "cell_type": "markdown",
   "metadata": {
    
   },
   "source": [
    "<p style=\"float: left;\"><a href=\"variances.ipynb\" target=\"_blank\">Previous</a></p>\n",
    "<p style=\"float: right;\"><a href=\"lower-type-bounds.ipynb\" target=\"_blank\">Next</a></p>\n",
    "<p style=\"text-align:center;\">Tour of Scala</p>\n",
    "<div style=\"clear: both;\"></div>\n",
    "\n",
    "# Upper Type Bounds\n",
    "\n",
    "In Scala, [type parameters](generic-classes.ipynb) and [abstract types](abstract-types.ipynb) may be constrained by a type bound. Such type bounds limit the concrete values of the type variables and possibly reveal more information about the members of such types. An _upper type bound_ `T <: A` declares that type variable `T` refers to a subtype of type `A`.\n",
    "Here is an example that demonstrates upper type bound for a type parameter of class `PetContainer`:"
   ]
  },
  {
   "cell_type": "code",
   "execution_count": null,
   "metadata": {
    "attributes": {
     "classes": [
      "tut"
     ],
     "id": ""
    }
   },
   "outputs": [
    
   ],
   "source": [
    "abstract class Animal {\n",
    " def name: String\n",
    "}\n",
    "\n",
    "abstract class Pet extends Animal {}\n",
    "\n",
    "class Cat extends Pet {\n",
    "  override def name: String = \"Cat\"\n",
    "}\n",
    "\n",
    "class Dog extends Pet {\n",
    "  override def name: String = \"Dog\"\n",
    "}\n",
    "\n",
    "class Lion extends Animal {\n",
    "  override def name: String = \"Lion\"\n",
    "}\n",
    "\n",
    "class PetContainer[P <: Pet](p: P) {\n",
    "  def pet: P = p\n",
    "}\n",
    "\n",
    "val dogContainer = new PetContainer[Dog](new Dog)\n",
    "val catContainer = new PetContainer[Cat](new Cat)"
   ]
  },
  {
   "cell_type": "code",
   "execution_count": null,
   "metadata": {
    "attributes": {
     "classes": [
      "tut"
     ],
     "id": ""
    }
   },
   "outputs": [
    
   ],
   "source": [
    "// this would not compile\n",
    "val lionContainer = new PetContainer[Lion](new Lion)"
   ]
  },
  {
   "cell_type": "markdown",
   "metadata": {
    
   },
   "source": [
    "The `class PetContainer` take a type parameter `P` which must be a subtype of `Pet`. `Dog` and `Cat` are subtypes of `Pet` so we can create a new `PetContainer[Dog]` and `PetContainer[Cat]`. However, if we tried to create a `PetContainer[Lion]`, we would get the following Error:\n",
    "\n",
    "`type arguments [Lion] do not conform to class PetContainer's type parameter bounds [P <: Pet]`\n",
    "\n",
    "This is because `Lion` is not a subtype of `Pet`.\n",
    "<p style=\"float: left;\"><a href=\"variances.ipynb\" target=\"_blank\">Previous</a></p>\n",
    "<p style=\"float: right;\"><a href=\"lower-type-bounds.ipynb\" target=\"_blank\">Next</a></p>\n",
    "<p style=\"text-align:center;\">Tour of Scala</p>\n",
    "<div style=\"clear: both;\"></div>"
   ]
  }
 ],
 "metadata": {
  "kernelspec": {
   "display_name": "Scala",
   "language": "scala",
   "name": "scala"
  },
  "language_info": {
   "codemirror_mode": "text/x-scala",
   "file_extension": ".scala",
   "mimetype": "text/x-scala",
   "name": "scala",
   "nbconvert_exporter": "script",
   "version": "2.12.7"
  }
 },
 "nbformat": 4,
 "nbformat_minor": 2
}