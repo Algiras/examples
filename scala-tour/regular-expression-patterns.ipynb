{
 "cells": [
  {
   "cell_type": "markdown",
   "metadata": {
    
   },
   "source": [
    "<p style=\"float: left;\"><a href=\"singleton-objects.ipynb\" target=\"_blank\">Previous</a></p>\n",
    "<p style=\"float: right;\"><a href=\"extractor-objects.ipynb\" target=\"_blank\">Next</a></p>\n",
    "<p style=\"text-align:center;\">Tour of Scala</p>\n",
    "<div style=\"clear: both;\"></div>\n",
    "\n",
    "# Regular Expression Patterns\n",
    "\n",
    "Regular expressions are strings which can be used to find patterns (or lack thereof) in data. Any string can be converted to a regular expression using the `.r` method."
   ]
  },
  {
   "cell_type": "code",
   "execution_count": null,
   "metadata": {
    "attributes": {
     "classes": [
      "tut"
     ],
     "id": ""
    }
   },
   "outputs": [
    
   ],
   "source": [
    "import scala.util.matching.Regex\n",
    "\n",
    "val numberPattern: Regex = \"[0-9]\".r\n",
    "\n",
    "numberPattern.findFirstMatchIn(\"awesomepassword\") match {\n",
    "  case Some(_) => println(\"Password OK\")\n",
    "  case None => println(\"Password must contain a number\")\n",
    "}"
   ]
  },
  {
   "cell_type": "markdown",
   "metadata": {
    
   },
   "source": [
    "In the above example, the `numberPattern` is a `Regex`\n",
    "(regular expression) which we use to make sure a password contains a number.\n",
    "\n",
    "You can also search for groups of regular expressions using parentheses."
   ]
  },
  {
   "cell_type": "code",
   "execution_count": null,
   "metadata": {
    "attributes": {
     "classes": [
      "tut"
     ],
     "id": ""
    }
   },
   "outputs": [
    
   ],
   "source": [
    "import scala.util.matching.Regex\n",
    "\n",
    "val keyValPattern: Regex = \"([0-9a-zA-Z-#() ]+): ([0-9a-zA-Z-#() ]+)\".r\n",
    "\n",
    "val input: String =\n",
    "  \"\"\"background-color: #A03300;\n",
    "    |background-image: url(img/header100.png);\n",
    "    |background-position: top center;\n",
    "    |background-repeat: repeat-x;\n",
    "    |background-size: 2160px 108px;\n",
    "    |margin: 0;\n",
    "    |height: 108px;\n",
    "    |width: 100%;\"\"\".stripMargin\n",
    "\n",
    "for (patternMatch <- keyValPattern.findAllMatchIn(input))\n",
    "  println(s\"key: ${patternMatch.group(1)} value: ${patternMatch.group(2)}\")"
   ]
  },
  {
   "cell_type": "markdown",
   "metadata": {
    
   },
   "source": [
    "Here we parse out the keys and values of a String. Each match has a group of sub-matches. Here is the output:"
   ]
  },
  {
   "cell_type": "markdown",
   "metadata": {
    
   },
   "source": [
    "```\n",
    "key: background-color value: #A03300\n",
    "key: background-image value: url(img\n",
    "key: background-position value: top center\n",
    "key: background-repeat value: repeat-x\n",
    "key: background-size value: 2160px 108px\n",
    "key: margin value: 0\n",
    "key: height value: 108px\n",
    "key: width value: 100\n",
    "```\n"
   ]
  },
  {
   "cell_type": "markdown",
   "metadata": {
    
   },
   "source": [
    "<p style=\"float: left;\"><a href=\"singleton-objects.ipynb\" target=\"_blank\">Previous</a></p>\n",
    "<p style=\"float: right;\"><a href=\"extractor-objects.ipynb\" target=\"_blank\">Next</a></p>\n",
    "<p style=\"text-align:center;\">Tour of Scala</p>\n",
    "<div style=\"clear: both;\"></div>"
   ]
  }
 ],
 "metadata": {
  "kernelspec": {
   "display_name": "Scala",
   "language": "scala",
   "name": "scala"
  },
  "language_info": {
   "codemirror_mode": "text/x-scala",
   "file_extension": ".scala",
   "mimetype": "text/x-scala",
   "name": "scala",
   "nbconvert_exporter": "script",
   "version": "2.12.8"
  }
 },
 "nbformat": 4,
 "nbformat_minor": 2
}