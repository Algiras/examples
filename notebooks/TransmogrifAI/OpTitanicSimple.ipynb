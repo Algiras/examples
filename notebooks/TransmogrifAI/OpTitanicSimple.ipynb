{
 "cells": [
  {
   "cell_type": "markdown",
   "metadata": {},
   "source": [
    "## Op Titanic Simple Sample\n",
    "\n",
    "Derived from https://github.com/salesforce/TransmogrifAI/tree/master/helloworld/notebooks"
   ]
  },
  {
   "cell_type": "markdown",
   "metadata": {},
   "source": [
    "Here we describe a very simple TransmogrifAI workflow for predicting survivors in the often-cited Titanic dataset. The code for building and applying the Titanic model can be found here: Titanic Code, and the data can be found here: [Titanic Data](https://github.com/salesforce/op/blob/master/helloworld/src/main/resources/TitanicDataset/TitanicPassengersTrainData.csv).\n",
    "\n",
    "First we need to load transmogrifai and Spark Mllib jars\n"
   ]
  },
  {
   "cell_type": "code",
   "execution_count": 1,
   "metadata": {},
   "outputs": [
    {
     "data": {
      "text/plain": [
       "\u001b[32mimport \u001b[39m\u001b[36m$ivy.$                                  \n",
       "\u001b[39m\n",
       "\u001b[32mimport \u001b[39m\u001b[36m$ivy.$                                    \n",
       "\u001b[39m\n",
       "\u001b[32mimport \u001b[39m\u001b[36m$ivy.$                              \n",
       "\u001b[39m\n",
       "\u001b[32mimport \u001b[39m\u001b[36m$ivy.$                                                       \u001b[39m"
      ]
     },
     "execution_count": 1,
     "metadata": {},
     "output_type": "execute_result"
    }
   ],
   "source": [
    "import $ivy.`org.apache.spark::spark-sql:2.3.3`\n",
    "import $ivy.`org.apache.spark::spark-mllib:2.3.3`\n",
    "import $ivy.`sh.almond::almond-spark:0.3.1`\n",
    "import $ivy.`com.salesforce.transmogrifai::transmogrifai-core:0.5.1`"
   ]
  },
  {
   "cell_type": "markdown",
   "metadata": {},
   "source": [
    "Import relevant classes"
   ]
  },
  {
   "cell_type": "code",
   "execution_count": 2,
   "metadata": {},
   "outputs": [
    {
     "data": {
      "text/plain": [
       "\u001b[32mimport \u001b[39m\u001b[36mcom.salesforce.op._\n",
       "\u001b[39m\n",
       "\u001b[32mimport \u001b[39m\u001b[36mcom.salesforce.op.features._\n",
       "\u001b[39m\n",
       "\u001b[32mimport \u001b[39m\u001b[36mcom.salesforce.op.features.types._\n",
       "\u001b[39m\n",
       "\u001b[32mimport \u001b[39m\u001b[36mcom.salesforce.op.evaluators.Evaluators\u001b[39m"
      ]
     },
     "execution_count": 2,
     "metadata": {},
     "output_type": "execute_result"
    }
   ],
   "source": [
    "import com.salesforce.op._\n",
    "import com.salesforce.op.features._\n",
    "import com.salesforce.op.features.types._\n",
    "import com.salesforce.op.evaluators.Evaluators"
   ]
  },
  {
   "cell_type": "code",
   "execution_count": 3,
   "metadata": {},
   "outputs": [
    {
     "data": {
      "text/plain": [
       "\u001b[32mimport \u001b[39m\u001b[36morg.apache.log4j.{Level, Logger}\n",
       "\u001b[39m"
      ]
     },
     "execution_count": 3,
     "metadata": {},
     "output_type": "execute_result"
    }
   ],
   "source": [
    "import org.apache.log4j.{Level, Logger}\n",
    "Logger.getLogger(\"org\").setLevel(Level.OFF)"
   ]
  },
  {
   "cell_type": "markdown",
   "metadata": {},
   "source": [
    "Instantiate a SparkSession"
   ]
  },
  {
   "cell_type": "code",
   "execution_count": 4,
   "metadata": {},
   "outputs": [
    {
     "name": "stdout",
     "output_type": "stream",
     "text": [
      "Loading spark-stubs\n",
      "Getting spark JARs\n",
      "Creating SparkSession\n"
     ]
    },
    {
     "name": "stderr",
     "output_type": "stream",
     "text": [
      "Using Spark's default log4j profile: org/apache/spark/log4j-defaults.properties\n"
     ]
    },
    {
     "data": {
      "text/html": [
       "<a href=\"http://192.168.2.2:4042\">Spark UI</a>"
      ]
     },
     "metadata": {},
     "output_type": "display_data"
    },
    {
     "data": {
      "text/plain": [
       "\u001b[32mimport \u001b[39m\u001b[36morg.apache.spark.sql._\n",
       "\n",
       "\u001b[39m\n",
       "\u001b[36mspark\u001b[39m: \u001b[32mSparkSession\u001b[39m = org.apache.spark.sql.SparkSession@552cdcdc"
      ]
     },
     "execution_count": 4,
     "metadata": {},
     "output_type": "execute_result"
    }
   ],
   "source": [
    "import org.apache.spark.sql._\n",
    "\n",
    "val spark = {\n",
    "  NotebookSparkSession.builder()\n",
    "    .master(\"local[*]\")\n",
    "    .appName(\"TitanicPrediction\")\n",
    "    .getOrCreate()\n",
    "}"
   ]
  },
  {
   "cell_type": "markdown",
   "metadata": {},
   "source": [
    "Let us create a case class to describe the schema for the data:"
   ]
  },
  {
   "cell_type": "code",
   "execution_count": 5,
   "metadata": {},
   "outputs": [
    {
     "data": {
      "text/plain": [
       "\u001b[32mimport \u001b[39m\u001b[36mspark.implicits._\n",
       "\n",
       "// Needed for now for case classes defined withing Ammonite. Won't be necessary in future versions of Spark.\n",
       "// See https://github.com/alexarchambault/ammonite-spark/issues/19 and https://github.com/apache/spark/pull/23607\n",
       "\u001b[39m\n",
       "defined \u001b[32mclass\u001b[39m \u001b[36mPassenger\u001b[39m"
      ]
     },
     "execution_count": 5,
     "metadata": {},
     "output_type": "execute_result"
    }
   ],
   "source": [
    "import spark.implicits._\n",
    "\n",
    "// Needed for now for case classes defined withing Ammonite. Won't be necessary in future versions of Spark.\n",
    "// See https://github.com/alexarchambault/ammonite-spark/issues/19 and https://github.com/apache/spark/pull/23607\n",
    "org.apache.spark.sql.catalyst.encoders.OuterScopes.addOuterScope(this);\n",
    "case class Passenger(\n",
    "  id: Int,\n",
    "  survived: Int,\n",
    "  pClass: Option[Int],\n",
    "  name: Option[String],\n",
    "  sex: Option[String],\n",
    "  age: Option[Double],\n",
    "  sibSp: Option[Int],\n",
    "  parCh: Option[Int],\n",
    "  ticket: Option[String],\n",
    "  fare: Option[Double],\n",
    "  cabin: Option[String],\n",
    "  embarked: Option[String]\n",
    ")"
   ]
  },
  {
   "cell_type": "markdown",
   "metadata": {},
   "source": [
    "We then define the set of raw features that we would like to extract from the data. The raw features are defined using [FeatureBuilders](https://docs.transmogrif.ai/Developer-Guide#featurebuilders), and are strongly typed. TransmogrifAI supports the following basic feature types: `Text`, `Numeric`, `Vector`, `List` , `Set`, `Map`. \n",
    "In addition it supports many specific feature types which extend these base types: Email extends Text; Integral, Real and Binary extend Numeric; Currency and Percentage extend Real. For a complete view of the types supported see the Type Hierarchy and Automatic Feature Engineering section in the Documentation.\n",
    "\n",
    "Basic `FeatureBuilders` will be created for you if you use the TransmogrifAI CLI to bootstrap your project as described here. However, it is often useful to edit this code to customize feature generation and take full advantage of the Feature types available (selecting the appropriate type will improve automatic feature engineering steps).\n",
    "\n",
    "When defining raw features, specify the extract logic to be applied to the raw data, and also annotate the features as either predictor or response variables via the FeatureBuilders:"
   ]
  },
  {
   "cell_type": "code",
   "execution_count": 6,
   "metadata": {},
   "outputs": [
    {
     "data": {
      "text/plain": [
       "\u001b[36msurvived\u001b[39m: \u001b[32mFeature\u001b[39m[\u001b[32mRealNN\u001b[39m] = \u001b[33mFeature\u001b[39m(\n",
       "  \u001b[32m\"survived\"\u001b[39m,\n",
       "  true,\n",
       "  FeatureGeneratorStage_000000000001,\n",
       "  \u001b[33mList\u001b[39m(),\n",
       "  \u001b[32m\"RealNN_000000000001\"\u001b[39m,\n",
       "  \u001b[33mList\u001b[39m()\n",
       ")\n",
       "\u001b[36mpClass\u001b[39m: \u001b[32mFeature\u001b[39m[\u001b[32mPickList\u001b[39m] = \u001b[33mFeature\u001b[39m(\n",
       "  \u001b[32m\"pClass\"\u001b[39m,\n",
       "  false,\n",
       "  FeatureGeneratorStage_000000000002,\n",
       "  \u001b[33mList\u001b[39m(),\n",
       "  \u001b[32m\"PickList_000000000002\"\u001b[39m,\n",
       "  \u001b[33mList\u001b[39m()\n",
       ")\n",
       "\u001b[36mname\u001b[39m: \u001b[32mFeature\u001b[39m[\u001b[32mText\u001b[39m] = \u001b[33mFeature\u001b[39m(\n",
       "  \u001b[32m\"name\"\u001b[39m,\n",
       "  false,\n",
       "  FeatureGeneratorStage_000000000003,\n",
       "  \u001b[33mList\u001b[39m(),\n",
       "  \u001b[32m\"Text_000000000003\"\u001b[39m,\n",
       "  \u001b[33mList\u001b[39m()\n",
       ")\n",
       "\u001b[36msex\u001b[39m: \u001b[32mFeature\u001b[39m[\u001b[32mPickList\u001b[39m] = \u001b[33mFeature\u001b[39m(\n",
       "  \u001b[32m\"sex\"\u001b[39m,\n",
       "  false,\n",
       "  FeatureGeneratorStage_000000000004,\n",
       "  \u001b[33mList\u001b[39m(),\n",
       "  \u001b[32m\"PickList_000000000004\"\u001b[39m,\n",
       "  \u001b[33mList\u001b[39m()\n",
       ")\n",
       "\u001b[36mage\u001b[39m: \u001b[32mFeature\u001b[39m[\u001b[32mReal\u001b[39m] = \u001b[33mFeature\u001b[39m(\n",
       "  \u001b[32m\"age\"\u001b[39m,\n",
       "  false,\n",
       "  FeatureGeneratorStage_000000000005,\n",
       "  \u001b[33mList\u001b[39m(),\n",
       "  \u001b[32m\"Real_000000000005\"\u001b[39m,\n",
       "  \u001b[33mList\u001b[39m()\n",
       ")\n",
       "\u001b[36msibSp\u001b[39m: \u001b[32mFeature\u001b[39m[\u001b[32mIntegral\u001b[39m] = \u001b[33mFeature\u001b[39m(\n",
       "  \u001b[32m\"sibSp\"\u001b[39m,\n",
       "  false,\n",
       "  FeatureGeneratorStage_000000000006,\n",
       "  \u001b[33mList\u001b[39m(),\n",
       "  \u001b[32m\"Integral_000000000006\"\u001b[39m,\n",
       "  \u001b[33mList\u001b[39m()\n",
       ")\n",
       "\u001b[36mparCh\u001b[39m: \u001b[32mFeature\u001b[39m[\u001b[32mIntegral\u001b[39m] = \u001b[33mFeature\u001b[39m(\n",
       "  \u001b[32m\"parCh\"\u001b[39m,\n",
       "  false,\n",
       "  FeatureGeneratorStage_000000000007,\n",
       "  \u001b[33mList\u001b[39m(),\n",
       "  \u001b[32m\"Integral_000000000007\"\u001b[39m,\n",
       "  \u001b[33mList\u001b[39m()\n",
       ")\n",
       "\u001b[36mticket\u001b[39m: \u001b[32mFeature\u001b[39m[\u001b[32mPickList\u001b[39m] = \u001b[33mFeature\u001b[39m(\n",
       "  \u001b[32m\"ticket\"\u001b[39m,\n",
       "  false,\n",
       "  FeatureGeneratorStage_000000000008,\n",
       "  \u001b[33mList\u001b[39m(),\n",
       "  \u001b[32m\"PickList_000000000008\"\u001b[39m,\n",
       "  \u001b[33mList\u001b[39m()\n",
       ")\n",
       "\u001b[36mfare\u001b[39m: \u001b[32mFeature\u001b[39m[\u001b[32mReal\u001b[39m] = \u001b[33mFeature\u001b[39m(\n",
       "  \u001b[32m\"fare\"\u001b[39m,\n",
       "  false,\n",
       "  FeatureGeneratorStage_000000000009,\n",
       "  \u001b[33mList\u001b[39m(),\n",
       "  \u001b[32m\"Real_000000000009\"\u001b[39m,\n",
       "  \u001b[33mList\u001b[39m()\n",
       ")\n",
       "\u001b[36mcabin\u001b[39m: \u001b[32mFeature\u001b[39m[\u001b[32mPickList\u001b[39m] = \u001b[33mFeature\u001b[39m(\n",
       "  \u001b[32m\"cabin\"\u001b[39m,\n",
       "  false,\n",
       "  FeatureGeneratorStage_00000000000a,\n",
       "  \u001b[33mList\u001b[39m(),\n",
       "  \u001b[32m\"PickList_00000000000a\"\u001b[39m,\n",
       "  \u001b[33mList\u001b[39m()\n",
       ")\n",
       "\u001b[36membarked\u001b[39m: \u001b[32mFeature\u001b[39m[\u001b[32mPickList\u001b[39m] = \u001b[33mFeature\u001b[39m(\n",
       "  \u001b[32m\"embarked\"\u001b[39m,\n",
       "  false,\n",
       "  FeatureGeneratorStage_00000000000b,\n",
       "  \u001b[33mList\u001b[39m(),\n",
       "  \u001b[32m\"PickList_00000000000b\"\u001b[39m,\n",
       "  \u001b[33mList\u001b[39m()\n",
       ")"
      ]
     },
     "execution_count": 6,
     "metadata": {},
     "output_type": "execute_result"
    }
   ],
   "source": [
    "val survived = FeatureBuilder.RealNN[Passenger].extract(_.survived.toRealNN).asResponse\n",
    "val pClass = FeatureBuilder.PickList[Passenger].extract(_.pClass.map(_.toString).toPickList).asPredictor\n",
    "val name = FeatureBuilder.Text[Passenger].extract(_.name.toText).asPredictor\n",
    "val sex = FeatureBuilder.PickList[Passenger].extract(_.sex.map(_.toString).toPickList).asPredictor\n",
    "val age = FeatureBuilder.Real[Passenger].extract(_.age.toReal).asPredictor\n",
    "val sibSp = FeatureBuilder.Integral[Passenger].extract(_.sibSp.toIntegral).asPredictor\n",
    "val parCh = FeatureBuilder.Integral[Passenger].extract(_.parCh.toIntegral).asPredictor\n",
    "val ticket = FeatureBuilder.PickList[Passenger].extract(_.ticket.map(_.toString).toPickList).asPredictor\n",
    "val fare = FeatureBuilder.Real[Passenger].extract(_.fare.toReal).asPredictor\n",
    "val cabin = FeatureBuilder.PickList[Passenger].extract(_.cabin.map(_.toString).toPickList).asPredictor\n",
    "val embarked = FeatureBuilder.PickList[Passenger].extract(_.embarked.map(_.toString).toPickList).asPredictor"
   ]
  },
  {
   "cell_type": "markdown",
   "metadata": {},
   "source": [
    "Now that the raw features have been defined, we go ahead and define how we would like to manipulate them via Stages (Transformers and Estimators). A TransmogrifAI Stage takes one or more Features, and returns a new Feature. TransmogrifAI provides numerous handy short cuts for specifying common feature manipulations. For basic arithmetic operations, you can just use “+”, “-“, “*” and “/”. In addition, shortcuts like “normalize”, “pivot” and “map” are also available."
   ]
  },
  {
   "cell_type": "code",
   "execution_count": 7,
   "metadata": {},
   "outputs": [
    {
     "data": {
      "text/plain": [
       "\u001b[36mfamilySize\u001b[39m: \u001b[32mFeatureLike\u001b[39m[\u001b[32mReal\u001b[39m] = \u001b[33mFeature\u001b[39m(\n",
       "  \u001b[32m\"parCh-sibSp_2-stagesApplied_Real_00000000000d\"\u001b[39m,\n",
       "  false,\n",
       "  UnaryLambdaTransformer_00000000000d,\n",
       "  \u001b[33mWrappedArray\u001b[39m(\n",
       "    \u001b[33mFeature\u001b[39m(\n",
       "      \u001b[32m\"parCh-sibSp_1-stagesApplied_Real_00000000000c\"\u001b[39m,\n",
       "      false,\n",
       "      BinaryLambdaTransformer_00000000000c,\n",
       "      \u001b[33mWrappedArray\u001b[39m(\n",
       "        \u001b[33mFeature\u001b[39m(\n",
       "          \u001b[32m\"sibSp\"\u001b[39m,\n",
       "          false,\n",
       "          FeatureGeneratorStage_000000000006,\n",
       "          \u001b[33mList\u001b[39m(),\n",
       "          \u001b[32m\"Integral_000000000006\"\u001b[39m,\n",
       "          \u001b[33mList\u001b[39m()\n",
       "        ),\n",
       "        \u001b[33mFeature\u001b[39m(\n",
       "          \u001b[32m\"parCh\"\u001b[39m,\n",
       "          false,\n",
       "          FeatureGeneratorStage_000000000007,\n",
       "          \u001b[33mList\u001b[39m(),\n",
       "          \u001b[32m\"Integral_000000000007\"\u001b[39m,\n",
       "          \u001b[33mList\u001b[39m()\n",
       "        )\n",
       "      ),\n",
       "      \u001b[32m\"Real_00000000000c\"\u001b[39m,\n",
       "      \u001b[33mList\u001b[39m()\n",
       "    )\n",
       "  ),\n",
       "  \u001b[32m\"Real_00000000000d\"\u001b[39m,\n",
       "  \u001b[33mList\u001b[39m()\n",
       ")\n",
       "\u001b[36mestimatedCostOfTickets\u001b[39m: \u001b[32mFeatureLike\u001b[39m[\u001b[32mReal\u001b[39m] = \u001b[33mFeature\u001b[39m(\n",
       "  \u001b[32m\"fare-parCh-sibSp_3-stagesApplied_Real_00000000000e\"\u001b[39m,\n",
       "  false,\n",
       "  BinaryLambdaTransformer_00000000000e,\n",
       "  \u001b[33mWrappedArray\u001b[39m(\n",
       "    \u001b[33mFeature\u001b[39m(\n",
       "      \u001b[32m\"parCh-sibSp_2-stagesApplied_Real_00000000000d\"\u001b[39m,\n",
       "      false,\n",
       "      UnaryLambdaTransformer_00000000000d,\n",
       "      \u001b[33mWrappedArray\u001b[39m(\n",
       "        \u001b[33mFeature\u001b[39m(\n",
       "          \u001b[32m\"parCh-sibSp_1-stagesApplied_Real_00000000000c\"\u001b[39m,\n",
       "          false,\n",
       "          BinaryLambdaTransformer_00000000000c,\n",
       "          \u001b[33mWrappedArray\u001b[39m(\n",
       "            \u001b[33mFeature\u001b[39m(\n",
       "              \u001b[32m\"sibSp\"\u001b[39m,\n",
       "              false,\n",
       "              FeatureGeneratorStage_000000000006,\n",
       "              \u001b[33mList\u001b[39m(),\n",
       "              \u001b[32m\"Integral_000000000006\"\u001b[39m,\n",
       "              \u001b[33mList\u001b[39m()\n",
       "            ),\n",
       "            \u001b[33mFeature\u001b[39m(\n",
       "              \u001b[32m\"parCh\"\u001b[39m,\n",
       "              false,\n",
       "              FeatureGeneratorStage_000000000007,\n",
       "              \u001b[33mList\u001b[39m(),\n",
       "              \u001b[32m\"Integral_000000000007\"\u001b[39m,\n",
       "              \u001b[33mList\u001b[39m()\n",
       "            )\n",
       "          ),\n",
       "          \u001b[32m\"Real_00000000000c\"\u001b[39m,\n",
       "          \u001b[33mList\u001b[39m()\n",
       "        )\n",
       "      ),\n",
       "      \u001b[32m\"Real_00000000000d\"\u001b[39m,\n",
       "      \u001b[33mList\u001b[39m()\n",
       "    ),\n",
       "...\n",
       "\u001b[36mpivotedSex\u001b[39m: \u001b[32mFeatureLike\u001b[39m[\u001b[32mOPVector\u001b[39m] = \u001b[33mFeature\u001b[39m(\n",
       "  \u001b[32m\"sex_1-stagesApplied_OPVector_00000000000f\"\u001b[39m,\n",
       "  false,\n",
       "  OpSetVectorizer_00000000000f,\n",
       "  \u001b[33mWrappedArray\u001b[39m(\n",
       "    \u001b[33mFeature\u001b[39m(\n",
       "      \u001b[32m\"sex\"\u001b[39m,\n",
       "      false,\n",
       "      FeatureGeneratorStage_000000000004,\n",
       "      \u001b[33mList\u001b[39m(),\n",
       "      \u001b[32m\"PickList_000000000004\"\u001b[39m,\n",
       "      \u001b[33mList\u001b[39m()\n",
       "    )\n",
       "  ),\n",
       "  \u001b[32m\"OPVector_00000000000f\"\u001b[39m,\n",
       "  \u001b[33mList\u001b[39m()\n",
       ")\n",
       "\u001b[36mnormedAge\u001b[39m: \u001b[32mFeatureLike\u001b[39m[\u001b[32mRealNN\u001b[39m] = \u001b[33mFeature\u001b[39m(\n",
       "  \u001b[32m\"age_2-stagesApplied_RealNN_000000000011\"\u001b[39m,\n",
       "  false,\n",
       "  OpScalarStandardScaler_000000000011,\n",
       "  \u001b[33mWrappedArray\u001b[39m(\n",
       "    \u001b[33mFeature\u001b[39m(\n",
       "      \u001b[32m\"age_1-stagesApplied_RealNN_000000000010\"\u001b[39m,\n",
       "      false,\n",
       "      FillMissingWithMean_000000000010,\n",
       "      \u001b[33mWrappedArray\u001b[39m(\n",
       "        \u001b[33mFeature\u001b[39m(\n",
       "          \u001b[32m\"age\"\u001b[39m,\n",
       "          false,\n",
       "          FeatureGeneratorStage_000000000005,\n",
       "          \u001b[33mList\u001b[39m(),\n",
       "          \u001b[32m\"Real_000000000005\"\u001b[39m,\n",
       "          \u001b[33mList\u001b[39m()\n",
       "        )\n",
       "      ),\n",
       "      \u001b[32m\"RealNN_000000000010\"\u001b[39m,\n",
       "      \u001b[33mList\u001b[39m()\n",
       "    )\n",
       "  ),\n",
       "  \u001b[32m\"RealNN_000000000011\"\u001b[39m,\n",
       "  \u001b[33mList\u001b[39m()\n",
       ")\n",
       "\u001b[36mageGroup\u001b[39m: \u001b[32mFeatureLike\u001b[39m[\u001b[32mPickList\u001b[39m] = \u001b[33mFeature\u001b[39m(\n",
       "  \u001b[32m\"age_1-stagesApplied_PickList_000000000012\"\u001b[39m,\n",
       "  false,\n",
       "  UnaryLambdaTransformer_000000000012,\n",
       "  \u001b[33mWrappedArray\u001b[39m(\n",
       "    \u001b[33mFeature\u001b[39m(\n",
       "      \u001b[32m\"age\"\u001b[39m,\n",
       "      false,\n",
       "      FeatureGeneratorStage_000000000005,\n",
       "      \u001b[33mList\u001b[39m(),\n",
       "      \u001b[32m\"Real_000000000005\"\u001b[39m,\n",
       "      \u001b[33mList\u001b[39m()\n",
       "    )\n",
       "  ),\n",
       "  \u001b[32m\"PickList_000000000012\"\u001b[39m,\n",
       "  \u001b[33mList\u001b[39m()\n",
       ")"
      ]
     },
     "execution_count": 7,
     "metadata": {},
     "output_type": "execute_result"
    }
   ],
   "source": [
    "val familySize = sibSp + parCh + 1\n",
    "val estimatedCostOfTickets = familySize * fare\n",
    "val pivotedSex = sex.pivot()\n",
    "val normedAge = age.fillMissingWithMean().zNormalize()\n",
    "val ageGroup = age.map[PickList](_.value.map(v => if (v > 18) \"adult\" else \"child\").toPickList)"
   ]
  },
  {
   "cell_type": "markdown",
   "metadata": {},
   "source": [
    "See [Creating Shortcuts for Transformers and Estimators](https://docs.transmogrif.ai/en/stable/developer-guide#creating-shortcuts-for-transformers-and-estimators) for more documentation on how shortcuts for stages can be created. We now define a Feature of type `Vector`, that is a vector representation of all the features we would like to use as predictors in our workflow."
   ]
  },
  {
   "cell_type": "code",
   "execution_count": 8,
   "metadata": {},
   "outputs": [
    {
     "data": {
      "text/plain": [
       "\u001b[36mpassengerFeatures\u001b[39m: \u001b[32mFeatureLike\u001b[39m[\u001b[32mOPVector\u001b[39m] = \u001b[33mFeature\u001b[39m(\n",
       "  \u001b[32m\"age-cabin-embarked-fare-name-pClass-parCh-sex-sibSp-ticket_10-stagesApplied_OPVector_000000000017\"\u001b[39m,\n",
       "  false,\n",
       "  VectorsCombiner_000000000017,\n",
       "  \u001b[33mWrappedArray\u001b[39m(\n",
       "    \u001b[33mFeature\u001b[39m(\n",
       "      \u001b[32m\"parCh-sibSp_1-stagesApplied_OPVector_000000000013\"\u001b[39m,\n",
       "      false,\n",
       "      IntegralVectorizer_000000000013,\n",
       "      \u001b[33mWrappedArray\u001b[39m(\n",
       "        \u001b[33mFeature\u001b[39m(\n",
       "          \u001b[32m\"sibSp\"\u001b[39m,\n",
       "          false,\n",
       "          FeatureGeneratorStage_000000000006,\n",
       "          \u001b[33mList\u001b[39m(),\n",
       "          \u001b[32m\"Integral_000000000006\"\u001b[39m,\n",
       "          \u001b[33mList\u001b[39m()\n",
       "        ),\n",
       "        \u001b[33mFeature\u001b[39m(\n",
       "          \u001b[32m\"parCh\"\u001b[39m,\n",
       "          false,\n",
       "          FeatureGeneratorStage_000000000007,\n",
       "          \u001b[33mList\u001b[39m(),\n",
       "          \u001b[32m\"Integral_000000000007\"\u001b[39m,\n",
       "          \u001b[33mList\u001b[39m()\n",
       "        )\n",
       "      ),\n",
       "      \u001b[32m\"OPVector_000000000013\"\u001b[39m,\n",
       "      \u001b[33mList\u001b[39m()\n",
       "    ),\n",
       "    \u001b[33mFeature\u001b[39m(\n",
       "      \u001b[32m\"sex_1-stagesApplied_OPVector_00000000000f\"\u001b[39m,\n",
       "      false,\n",
       "      OpSetVectorizer_00000000000f,\n",
       "      \u001b[33mWrappedArray\u001b[39m(\n",
       "        \u001b[33mFeature\u001b[39m(\n",
       "          \u001b[32m\"sex\"\u001b[39m,\n",
       "          false,\n",
       "..."
      ]
     },
     "execution_count": 8,
     "metadata": {},
     "output_type": "execute_result"
    }
   ],
   "source": [
    "val passengerFeatures = Seq(\n",
    "  pClass, name, age, sibSp, parCh, ticket,\n",
    "  cabin, embarked, familySize, estimatedCostOfTickets,\n",
    "  pivotedSex, ageGroup\n",
    ").transmogrify()"
   ]
  },
  {
   "cell_type": "markdown",
   "metadata": {},
   "source": [
    "The `.transmogrify()` shortcut is a special AutoML Estimator that applies a default set of transformations to all the specified inputs and combines them into a single vector. This is in essence the automatic feature engineering Stage of TransmogrifAI. This stage can be discarded in favor of hand-tuned feature engineering and manual vector creation followed by combination using the `VectorsCombiner` `Transformer` (short-hand `Seq(....).combine()`) if the user desires to have complete control over feature engineering.\n",
    "\n",
    "The next stage applies another powerful AutoML Estimator — the `SanityChecker`. The `SanityChecker` applies a variety of statistical tests to the data based on Feature types and discards predictors that are indicative of label leakage or that show little to no predictive power. This is in essence the automatic feature selection Stage of TransmogrifAI:"
   ]
  },
  {
   "cell_type": "code",
   "execution_count": 9,
   "metadata": {},
   "outputs": [
    {
     "data": {
      "text/plain": [
       "\u001b[36msanityCheck\u001b[39m: \u001b[32mBoolean\u001b[39m = true\n",
       "\u001b[36mfinalFeatures\u001b[39m: \u001b[32mFeatureLike\u001b[39m[\u001b[32mOPVector\u001b[39m] = \u001b[33mFeature\u001b[39m(\n",
       "  \u001b[32m\"age-cabin-embarked-fare-name-pClass-parCh-sex-sibSp-survived-ticket_11-stagesApplied_OPVector_000000000018\"\u001b[39m,\n",
       "  false,\n",
       "  SanityChecker_000000000018,\n",
       "  \u001b[33mWrappedArray\u001b[39m(\n",
       "    \u001b[33mFeature\u001b[39m(\n",
       "      \u001b[32m\"survived\"\u001b[39m,\n",
       "      true,\n",
       "      FeatureGeneratorStage_000000000001,\n",
       "      \u001b[33mList\u001b[39m(),\n",
       "      \u001b[32m\"RealNN_000000000001\"\u001b[39m,\n",
       "      \u001b[33mList\u001b[39m()\n",
       "    ),\n",
       "    \u001b[33mFeature\u001b[39m(\n",
       "      \u001b[32m\"age-cabin-embarked-fare-name-pClass-parCh-sex-sibSp-ticket_10-stagesApplied_OPVector_000000000017\"\u001b[39m,\n",
       "      false,\n",
       "      VectorsCombiner_000000000017,\n",
       "      \u001b[33mWrappedArray\u001b[39m(\n",
       "        \u001b[33mFeature\u001b[39m(\n",
       "          \u001b[32m\"parCh-sibSp_1-stagesApplied_OPVector_000000000013\"\u001b[39m,\n",
       "          false,\n",
       "          IntegralVectorizer_000000000013,\n",
       "          \u001b[33mWrappedArray\u001b[39m(\n",
       "            \u001b[33mFeature\u001b[39m(\n",
       "              \u001b[32m\"sibSp\"\u001b[39m,\n",
       "              false,\n",
       "              FeatureGeneratorStage_000000000006,\n",
       "              \u001b[33mList\u001b[39m(),\n",
       "              \u001b[32m\"Integral_000000000006\"\u001b[39m,\n",
       "              \u001b[33mList\u001b[39m()\n",
       "            ),\n",
       "            \u001b[33mFeature\u001b[39m(\n",
       "              \u001b[32m\"parCh\"\u001b[39m,\n",
       "              false,\n",
       "              FeatureGeneratorStage_000000000007,\n",
       "              \u001b[33mList\u001b[39m(),\n",
       "              \u001b[32m\"Integral_000000000007\"\u001b[39m,\n",
       "..."
      ]
     },
     "execution_count": 9,
     "metadata": {},
     "output_type": "execute_result"
    }
   ],
   "source": [
    "val sanityCheck = true\n",
    "val finalFeatures = if (sanityCheck) survived.sanityCheck(passengerFeatures) else passengerFeatures"
   ]
  },
  {
   "cell_type": "markdown",
   "metadata": {},
   "source": [
    "Finally, the `OpLogisticRegression` Estimator is applied to derive a new triplet of Features which are essentially probabilities and predictions returned by the logistic regression algorithm:"
   ]
  },
  {
   "cell_type": "code",
   "execution_count": 10,
   "metadata": {},
   "outputs": [
    {
     "data": {
      "text/plain": [
       "\u001b[32mimport \u001b[39m\u001b[36mcom.salesforce.op.stages.impl.classification.BinaryClassificationModelSelector\n",
       "\u001b[39m\n",
       "\u001b[32mimport \u001b[39m\u001b[36mcom.salesforce.op.stages.impl.classification.BinaryClassificationModelsToTry._\n",
       "\n",
       "\u001b[39m\n",
       "\u001b[36mprediction\u001b[39m: \u001b[32mFeatureLike\u001b[39m[\u001b[32mPrediction\u001b[39m] = \u001b[33mFeature\u001b[39m(\n",
       "  \u001b[32m\"age-cabin-embarked-fare-name-pClass-parCh-sex-sibSp-survived-ticket_12-stagesApplied_Prediction_000000000023\"\u001b[39m,\n",
       "  true,\n",
       "  ModelSelector_000000000023,\n",
       "  \u001b[33mWrappedArray\u001b[39m(\n",
       "    \u001b[33mFeature\u001b[39m(\n",
       "      \u001b[32m\"survived\"\u001b[39m,\n",
       "      true,\n",
       "      FeatureGeneratorStage_000000000001,\n",
       "      \u001b[33mList\u001b[39m(),\n",
       "      \u001b[32m\"RealNN_000000000001\"\u001b[39m,\n",
       "      \u001b[33mList\u001b[39m()\n",
       "    ),\n",
       "    \u001b[33mFeature\u001b[39m(\n",
       "      \u001b[32m\"age-cabin-embarked-fare-name-pClass-parCh-sex-sibSp-survived-ticket_11-stagesApplied_OPVector_000000000018\"\u001b[39m,\n",
       "      false,\n",
       "      SanityChecker_000000000018,\n",
       "      \u001b[33mWrappedArray\u001b[39m(\n",
       "        \u001b[33mFeature\u001b[39m(\n",
       "          \u001b[32m\"survived\"\u001b[39m,\n",
       "          true,\n",
       "          FeatureGeneratorStage_000000000001,\n",
       "          \u001b[33mList\u001b[39m(),\n",
       "          \u001b[32m\"RealNN_000000000001\"\u001b[39m,\n",
       "          \u001b[33mList\u001b[39m()\n",
       "        ),\n",
       "        \u001b[33mFeature\u001b[39m(\n",
       "          \u001b[32m\"age-cabin-embarked-fare-name-pClass-parCh-sex-sibSp-ticket_10-stagesApplied_OPVector_000000000017\"\u001b[39m,\n",
       "          false,\n",
       "          VectorsCombiner_000000000017,\n",
       "          \u001b[33mWrappedArray\u001b[39m(\n",
       "            \u001b[33mFeature\u001b[39m(\n",
       "              \u001b[32m\"parCh-sibSp_1-stagesApplied_OPVector_000000000013\"\u001b[39m,\n",
       "              false,\n",
       "              IntegralVectorizer_000000000013,\n",
       "              \u001b[33mWrappedArray\u001b[39m(\n",
       "..."
      ]
     },
     "execution_count": 10,
     "metadata": {},
     "output_type": "execute_result"
    }
   ],
   "source": [
    "import com.salesforce.op.stages.impl.classification.BinaryClassificationModelSelector\n",
    "import com.salesforce.op.stages.impl.classification.BinaryClassificationModelsToTry._\n",
    "\n",
    "val prediction = BinaryClassificationModelSelector.withTrainValidationSplit(\n",
    "  modelTypesToUse = Seq(OpLogisticRegression)\n",
    ").setInput(survived, finalFeatures).getOutput()"
   ]
  },
  {
   "cell_type": "code",
   "execution_count": 11,
   "metadata": {},
   "outputs": [
    {
     "data": {
      "text/plain": [
       "\u001b[36mevaluator\u001b[39m: \u001b[32mevaluators\u001b[39m.\u001b[32mOpBinaryClassificationEvaluator\u001b[39m = OpBinaryClassificationEvaluator_000000000024"
      ]
     },
     "execution_count": 11,
     "metadata": {},
     "output_type": "execute_result"
    }
   ],
   "source": [
    "val evaluator = Evaluators.BinaryClassification().setLabelCol(survived).setPredictionCol(prediction)"
   ]
  },
  {
   "cell_type": "markdown",
   "metadata": {},
   "source": [
    "Notice that everything we’ve done so far has been purely at the level of definitions. We have defined how we would like to extract our raw features from data of type `Passenger`, and we have defined how we would like to manipulate them. In order to actually manifest the data described by these features, we need to add them to a workflow and attach a data source to the workflow.\n",
    "\n",
    "Please note the `trainFilePath` is the derived path from folder where host folder is mounted as a volume (/home/beakerx/helloworld) in this case. This can be changed as well depending on the location and volume director you are mounting the data from. You can also create a new DataReader with a new path."
   ]
  },
  {
   "cell_type": "code",
   "execution_count": 12,
   "metadata": {},
   "outputs": [
    {
     "data": {
      "text/plain": [
       "\u001b[32mimport \u001b[39m\u001b[36mspark.implicits._ // Needed for Encoders for the Passenger case class\n",
       "\u001b[39m\n",
       "\u001b[32mimport \u001b[39m\u001b[36mcom.salesforce.op.readers.DataReaders\n",
       "\n",
       "\u001b[39m\n",
       "\u001b[36mtrainFilePath\u001b[39m: \u001b[32mString\u001b[39m = \u001b[32m\"datasets/TitanicDataset/TitanicPassengersTrainData.csv\"\u001b[39m\n",
       "\u001b[36mtrainDataReader\u001b[39m: \u001b[32mreaders\u001b[39m.\u001b[32mCSVProductReader\u001b[39m[\u001b[32mPassenger\u001b[39m] = com.salesforce.op.readers.CSVProductReader@359b1b6a"
      ]
     },
     "execution_count": 12,
     "metadata": {},
     "output_type": "execute_result"
    }
   ],
   "source": [
    "import spark.implicits._ // Needed for Encoders for the Passenger case class\n",
    "import com.salesforce.op.readers.DataReaders\n",
    "\n",
    "val trainFilePath = \"datasets/TitanicDataset/TitanicPassengersTrainData.csv\"\n",
    "// Define a way to read data into our Passenger class from our CSV file\n",
    "val trainDataReader = DataReaders.Simple.csvCase[Passenger](\n",
    "  path = Option(trainFilePath),\n",
    "  key = _.id.toString\n",
    ")"
   ]
  },
  {
   "cell_type": "code",
   "execution_count": 13,
   "metadata": {},
   "outputs": [
    {
     "ename": "",
     "evalue": "",
     "output_type": "error",
     "traceback": [
      "\u001b[31mjava.lang.IllegalArgumentException: requirement failed: No matching data readers for 11 input features: Feature(name = age, uid = Real_000000000005, isResponse = false, originStage = FeatureGeneratorStage_000000000005, parents = [], distributions = []),Feature(name = cabin, uid = PickList_00000000000a, isResponse = false, originStage = FeatureGeneratorStage_00000000000a, parents = [], distributions = []),Feature(name = embarked, uid = PickList_00000000000b, isResponse = false, originStage = FeatureGeneratorStage_00000000000b, parents = [], distributions = []),Feature(name = fare, uid = Real_000000000009, isResponse = false, originStage = FeatureGeneratorStage_000000000009, parents = [], distributions = []),Feature(name = name, uid = Text_000000000003, isResponse = false, originStage = FeatureGeneratorStage_000000000003, parents = [], distributions = []),Feature(name = pClass, uid = PickList_000000000002, isResponse = false, originStage = FeatureGeneratorStage_000000000002, parents = [], distributions = []),Feature(name = parCh, uid = Integral_000000000007, isResponse = false, originStage = FeatureGeneratorStage_000000000007, parents = [], distributions = []),Feature(name = sex, uid = PickList_000000000004, isResponse = false, originStage = FeatureGeneratorStage_000000000004, parents = [], distributions = []),Feature(name = sibSp, uid = Integral_000000000006, isResponse = false, originStage = FeatureGeneratorStage_000000000006, parents = [], distributions = []),Feature(name = survived, uid = RealNN_000000000001, isResponse = true, originStage = FeatureGeneratorStage_000000000001, parents = [], distributions = []),Feature(name = ticket, uid = PickList_000000000008, isResponse = false, originStage = FeatureGeneratorStage_000000000008, parents = [], distributions = []). Readers had types: cmd11.this.cmd4.Passenger\u001b[39m\n  com.salesforce.op.OpWorkflowCore$class.checkUnmatchedFeatures(\u001b[32mOpWorkflowCore.scala\u001b[39m:\u001b[32m227\u001b[39m)\n  com.salesforce.op.OpWorkflow.checkUnmatchedFeatures(\u001b[32mOpWorkflow.scala\u001b[39m:\u001b[32m59\u001b[39m)\n  com.salesforce.op.OpWorkflowCore$class.setReader(\u001b[32mOpWorkflowCore.scala\u001b[39m:\u001b[32m123\u001b[39m)\n  com.salesforce.op.OpWorkflow.setReader(\u001b[32mOpWorkflow.scala\u001b[39m:\u001b[32m59\u001b[39m)\n  ammonite.$sess.cmd12$Helper.<init>(\u001b[32mcmd12.sc\u001b[39m:\u001b[32m3\u001b[39m)\n  ammonite.$sess.cmd12$.<init>(\u001b[32mcmd12.sc\u001b[39m:\u001b[32m7\u001b[39m)\n  ammonite.$sess.cmd12$.<clinit>(\u001b[32mcmd12.sc\u001b[39m:\u001b[32m-1\u001b[39m)"
     ]
    }
   ],
   "source": [
    "val workflow = new OpWorkflow()\n",
    "  .setResultFeatures(survived, prediction)\n",
    "  .setReader(trainDataReader)"
   ]
  },
  {
   "cell_type": "markdown",
   "metadata": {},
   "source": [
    "When we now call `train` on this workflow, it automatically computes and executes the entire DAG of Stages needed to compute the features survived, prediction, rawPrediction, and prob, fitting all the estimators on the training data in the process. Calling score on the fitted workflow then transforms the underlying training data to produce a DataFrame with the all the features manifested. The score method can optionally be passed an evaluator that produces metrics."
   ]
  },
  {
   "cell_type": "code",
   "execution_count": null,
   "metadata": {},
   "outputs": [],
   "source": [
    "val fittedWorkflow = workflow.train()\n",
    "println(\"Summary:\\n\" + fittedWorkflow.summaryPretty())"
   ]
  },
  {
   "cell_type": "markdown",
   "metadata": {},
   "source": [
    "After model has been fitted we use `scoreAndEvaluate()` function to evaluate the metrics"
   ]
  },
  {
   "cell_type": "code",
   "execution_count": null,
   "metadata": {},
   "outputs": [],
   "source": [
    "println(\"Scoring the model:\\n=================\")\n",
    "val (dataframe, metrics) = fittedWorkflow.scoreAndEvaluate(evaluator = evaluator)\n",
    "\n",
    "println(\"Transformed dataframe columns:\\n--------------------------\")\n",
    "dataframe.columns.foreach(println)\n",
    "\n",
    "println(\"Metrics:\\n------------\")\n",
    "println(metrics)"
   ]
  }
 ],
 "metadata": {
  "kernelspec": {
   "display_name": "Scala (2.11)",
   "language": "scala",
   "name": "scala211"
  },
  "language_info": {
   "codemirror_mode": "text/x-scala",
   "file_extension": ".scala",
   "mimetype": "text/x-scala",
   "name": "scala",
   "nbconvert_exporter": "script",
   "version": "2.11.12"
  },
  "toc": {
   "base_numbering": 1,
   "nav_menu": {},
   "number_sections": false,
   "sideBar": false,
   "skip_h1_title": false,
   "title_cell": "Table of Contents",
   "title_sidebar": "Contents",
   "toc_cell": false,
   "toc_position": {},
   "toc_section_display": false,
   "toc_window_display": false
  }
 },
 "nbformat": 4,
 "nbformat_minor": 2
}
