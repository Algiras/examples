{
 "cells": [
  {
   "cell_type": "markdown",
   "metadata": {},
   "source": [
    "## Op Iris Sample\n",
    "\n",
    "Derived from https://github.com/salesforce/TransmogrifAI/tree/master/helloworld/notebooks\n",
    "\n",
    "The following code illustrates how TransmogrifAI can be used to do classify multiple classes over the Iris dataset.\n",
    "\n",
    "First we need to load transmogrifai and Spark Mllib jars using maven"
   ]
  },
  {
   "cell_type": "code",
   "execution_count": 1,
   "metadata": {},
   "outputs": [
    {
     "data": {
      "text/plain": [
       "\u001b[32mimport \u001b[39m\u001b[36m$ivy.$                                  \n",
       "\u001b[39m\n",
       "\u001b[32mimport \u001b[39m\u001b[36m$ivy.$                                    \n",
       "\u001b[39m\n",
       "\u001b[32mimport \u001b[39m\u001b[36m$ivy.$                              \n",
       "\u001b[39m\n",
       "\u001b[32mimport \u001b[39m\u001b[36m$ivy.$                                                       \u001b[39m"
      ]
     },
     "execution_count": 1,
     "metadata": {},
     "output_type": "execute_result"
    }
   ],
   "source": [
    "import $ivy.`org.apache.spark::spark-sql:2.3.3`\n",
    "import $ivy.`org.apache.spark::spark-mllib:2.3.3`\n",
    "import $ivy.`sh.almond::almond-spark:0.3.1`\n",
    "import $ivy.`com.salesforce.transmogrifai::transmogrifai-core:0.5.1`"
   ]
  },
  {
   "cell_type": "markdown",
   "metadata": {},
   "source": [
    "#### Define features\n",
    "\n",
    "Let us first define the case Class which describes the schema for the data. "
   ]
  },
  {
   "cell_type": "code",
   "execution_count": 2,
   "metadata": {},
   "outputs": [
    {
     "data": {
      "text/plain": [
       "\u001b[32mimport \u001b[39m\u001b[36morg.apache.log4j.{Level, Logger}\n",
       "\u001b[39m"
      ]
     },
     "execution_count": 2,
     "metadata": {},
     "output_type": "execute_result"
    }
   ],
   "source": [
    "import org.apache.log4j.{Level, Logger}\n",
    "Logger.getLogger(\"org\").setLevel(Level.OFF)"
   ]
  },
  {
   "cell_type": "code",
   "execution_count": 3,
   "metadata": {},
   "outputs": [
    {
     "data": {
      "text/plain": [
       "defined \u001b[32mclass\u001b[39m \u001b[36mIris\u001b[39m"
      ]
     },
     "execution_count": 3,
     "metadata": {},
     "output_type": "execute_result"
    }
   ],
   "source": [
    "// Needed for now for case classes defined withing Ammonite. Won't be necessary in future versions of Spark.\n",
    "// See https://github.com/alexarchambault/ammonite-spark/issues/19 and https://github.com/apache/spark/pull/23607\n",
    "org.apache.spark.sql.catalyst.encoders.OuterScopes.addOuterScope(this)\n",
    "case class Iris\n",
    "(\n",
    "  sepalLength: Double,\n",
    "  sepalWidth: Double,\n",
    "  petalLength: Double,\n",
    "  petalWidth: Double,\n",
    "  irisClass: String\n",
    ")"
   ]
  },
  {
   "cell_type": "markdown",
   "metadata": {},
   "source": [
    "#### Feature Engineering\n",
    "\n",
    "We then define the set of raw features that we would like to extract from the data. The raw features are defined using [FeatureBuilders](https://docs.transmogrif.ai/Developer-Guide#featurebuilders), and are strongly typed. TransmogrifAI supports the following basic feature types: `Text`, `Numeric`, `Vector`, `List` , `Set`, `Map`. \n",
    "In addition it supports many specific feature types which extend these base types: Email extends Text; Integral, Real and Binary extend Numeric; Currency and Percentage extend Real. For a complete view of the types supported see the Type Hierarchy and Automatic Feature Engineering section in the Documentation.\n",
    "\n",
    "Basic `FeatureBuilders` will be created for you if you use the TransmogrifAI CLI to bootstrap your project as described here. However, it is often useful to edit this code to customize feature generation and take full advantage of the Feature types available (selecting the appropriate type will improve automatic feature engineering steps).\n",
    "\n",
    "When defining raw features, specify the extract logic to be applied to the raw data, and also annotate the features as either predictor or response variables via the FeatureBuilders:"
   ]
  },
  {
   "cell_type": "code",
   "execution_count": 4,
   "metadata": {},
   "outputs": [
    {
     "data": {
      "text/plain": [
       "\u001b[32mimport \u001b[39m\u001b[36mcom.salesforce.op.features.FeatureBuilder\n",
       "\u001b[39m\n",
       "\u001b[32mimport \u001b[39m\u001b[36mcom.salesforce.op.features.types._\n",
       "\n",
       "\u001b[39m\n",
       "\u001b[36msepalLength\u001b[39m: \u001b[32mcom\u001b[39m.\u001b[32msalesforce\u001b[39m.\u001b[32mop\u001b[39m.\u001b[32mfeatures\u001b[39m.\u001b[32mFeature\u001b[39m[\u001b[32mReal\u001b[39m] = \u001b[33mFeature\u001b[39m(\n",
       "  \u001b[32m\"sepalLength\"\u001b[39m,\n",
       "  false,\n",
       "  FeatureGeneratorStage_000000000001,\n",
       "  \u001b[33mList\u001b[39m(),\n",
       "  \u001b[32m\"Real_000000000001\"\u001b[39m,\n",
       "  \u001b[33mList\u001b[39m()\n",
       ")\n",
       "\u001b[36msepalWidth\u001b[39m: \u001b[32mcom\u001b[39m.\u001b[32msalesforce\u001b[39m.\u001b[32mop\u001b[39m.\u001b[32mfeatures\u001b[39m.\u001b[32mFeature\u001b[39m[\u001b[32mReal\u001b[39m] = \u001b[33mFeature\u001b[39m(\n",
       "  \u001b[32m\"sepalWidth\"\u001b[39m,\n",
       "  false,\n",
       "  FeatureGeneratorStage_000000000002,\n",
       "  \u001b[33mList\u001b[39m(),\n",
       "  \u001b[32m\"Real_000000000002\"\u001b[39m,\n",
       "  \u001b[33mList\u001b[39m()\n",
       ")\n",
       "\u001b[36mpetalLength\u001b[39m: \u001b[32mcom\u001b[39m.\u001b[32msalesforce\u001b[39m.\u001b[32mop\u001b[39m.\u001b[32mfeatures\u001b[39m.\u001b[32mFeature\u001b[39m[\u001b[32mReal\u001b[39m] = \u001b[33mFeature\u001b[39m(\n",
       "  \u001b[32m\"petalLength\"\u001b[39m,\n",
       "  false,\n",
       "  FeatureGeneratorStage_000000000003,\n",
       "  \u001b[33mList\u001b[39m(),\n",
       "  \u001b[32m\"Real_000000000003\"\u001b[39m,\n",
       "  \u001b[33mList\u001b[39m()\n",
       ")\n",
       "\u001b[36mpetalWidth\u001b[39m: \u001b[32mcom\u001b[39m.\u001b[32msalesforce\u001b[39m.\u001b[32mop\u001b[39m.\u001b[32mfeatures\u001b[39m.\u001b[32mFeature\u001b[39m[\u001b[32mReal\u001b[39m] = \u001b[33mFeature\u001b[39m(\n",
       "  \u001b[32m\"petalWidth\"\u001b[39m,\n",
       "  false,\n",
       "  FeatureGeneratorStage_000000000004,\n",
       "  \u001b[33mList\u001b[39m(),\n",
       "  \u001b[32m\"Real_000000000004\"\u001b[39m,\n",
       "  \u001b[33mList\u001b[39m()\n",
       ")\n",
       "\u001b[36mirisClass\u001b[39m: \u001b[32mcom\u001b[39m.\u001b[32msalesforce\u001b[39m.\u001b[32mop\u001b[39m.\u001b[32mfeatures\u001b[39m.\u001b[32mFeature\u001b[39m[\u001b[32mText\u001b[39m] = \u001b[33mFeature\u001b[39m(\n",
       "  \u001b[32m\"irisClass\"\u001b[39m,\n",
       "  true,\n",
       "  FeatureGeneratorStage_000000000005,\n",
       "  \u001b[33mList\u001b[39m(),\n",
       "  \u001b[32m\"Text_000000000005\"\u001b[39m,\n",
       "  \u001b[33mList\u001b[39m()\n",
       ")"
      ]
     },
     "execution_count": 4,
     "metadata": {},
     "output_type": "execute_result"
    }
   ],
   "source": [
    "import com.salesforce.op.features.FeatureBuilder\n",
    "import com.salesforce.op.features.types._\n",
    "\n",
    "val sepalLength = FeatureBuilder.Real[Iris].extract(_.sepalLength.toReal).asPredictor\n",
    "val sepalWidth = FeatureBuilder.Real[Iris].extract(_.sepalWidth.toReal).asPredictor\n",
    "val petalLength = FeatureBuilder.Real[Iris].extract(_.petalLength.toReal).asPredictor\n",
    "val petalWidth = FeatureBuilder.Real[Iris].extract(_.petalWidth.toReal).asPredictor\n",
    "val irisClass = FeatureBuilder.Text[Iris].extract(_.irisClass.toText).asResponse"
   ]
  },
  {
   "cell_type": "code",
   "execution_count": 5,
   "metadata": {},
   "outputs": [
    {
     "name": "stdout",
     "output_type": "stream",
     "text": [
      "Loading spark-stubs\n",
      "Getting spark JARs\n",
      "Creating SparkSession\n"
     ]
    },
    {
     "name": "stderr",
     "output_type": "stream",
     "text": [
      "Using Spark's default log4j profile: org/apache/spark/log4j-defaults.properties\n"
     ]
    },
    {
     "data": {
      "text/html": [
       "<a href=\"http://192.168.2.2:4041\">Spark UI</a>"
      ]
     },
     "metadata": {},
     "output_type": "display_data"
    },
    {
     "data": {
      "text/plain": [
       "\u001b[32mimport \u001b[39m\u001b[36morg.apache.spark.sql._\n",
       "\n",
       "\u001b[39m\n",
       "\u001b[36mspark\u001b[39m: \u001b[32mSparkSession\u001b[39m = org.apache.spark.sql.SparkSession@3f6187f0"
      ]
     },
     "execution_count": 5,
     "metadata": {},
     "output_type": "execute_result"
    }
   ],
   "source": [
    "import org.apache.spark.sql._\n",
    "\n",
    "implicit val spark = {\n",
    "  NotebookSparkSession.builder()\n",
    "    .master(\"local[*]\")\n",
    "    .getOrCreate()\n",
    "}"
   ]
  },
  {
   "cell_type": "code",
   "execution_count": 6,
   "metadata": {},
   "outputs": [
    {
     "data": {
      "text/plain": [
       "\u001b[32mimport \u001b[39m\u001b[36mcom.salesforce.op._\n",
       "\u001b[39m\n",
       "\u001b[32mimport \u001b[39m\u001b[36mcom.salesforce.op.evaluators.Evaluators\n",
       "\u001b[39m\n",
       "\u001b[32mimport \u001b[39m\u001b[36mcom.salesforce.op.readers.DataReaders\n",
       "\u001b[39m\n",
       "\u001b[32mimport \u001b[39m\u001b[36mcom.salesforce.op.stages.impl.classification.MultiClassificationModelSelector\n",
       "\u001b[39m\n",
       "\u001b[32mimport \u001b[39m\u001b[36mcom.salesforce.op.stages.impl.tuning.DataCutter\n",
       "\u001b[39m\n",
       "\u001b[32mimport \u001b[39m\u001b[36morg.apache.spark.sql.Encoders\u001b[39m"
      ]
     },
     "execution_count": 6,
     "metadata": {},
     "output_type": "execute_result"
    }
   ],
   "source": [
    "import com.salesforce.op._\n",
    "import com.salesforce.op.evaluators.Evaluators\n",
    "import com.salesforce.op.readers.DataReaders\n",
    "import com.salesforce.op.stages.impl.classification.MultiClassificationModelSelector\n",
    "import com.salesforce.op.stages.impl.tuning.DataCutter\n",
    "import org.apache.spark.sql.Encoders"
   ]
  },
  {
   "cell_type": "markdown",
   "metadata": {},
   "source": [
    "Next step is to encode the case class using `org.apache.spark.sql.Encoders`"
   ]
  },
  {
   "cell_type": "code",
   "execution_count": 7,
   "metadata": {},
   "outputs": [
    {
     "data": {
      "text/plain": [
       "\u001b[36mirisEncoder\u001b[39m: \u001b[32mEncoder\u001b[39m[\u001b[32mIris\u001b[39m] = \u001b[33mExpressionEncoder\u001b[39m(\n",
       "  \u001b[33mStructType\u001b[39m(\n",
       "    \u001b[33mStructField\u001b[39m(\u001b[32m\"sepalLength\"\u001b[39m, DoubleType, false, {}),\n",
       "    \u001b[33mStructField\u001b[39m(\u001b[32m\"sepalWidth\"\u001b[39m, DoubleType, false, {}),\n",
       "    \u001b[33mStructField\u001b[39m(\u001b[32m\"petalLength\"\u001b[39m, DoubleType, false, {}),\n",
       "    \u001b[33mStructField\u001b[39m(\u001b[32m\"petalWidth\"\u001b[39m, DoubleType, false, {}),\n",
       "    \u001b[33mStructField\u001b[39m(\u001b[32m\"irisClass\"\u001b[39m, StringType, true, {})\n",
       "  ),\n",
       "  false,\n",
       "  \u001b[33mList\u001b[39m(\n",
       "    \u001b[33mAlias\u001b[39m(\n",
       "      \u001b[33mInvoke\u001b[39m(\n",
       "        \u001b[33mAssertNotNull\u001b[39m(\n",
       "          \u001b[33mAssertNotNull\u001b[39m(\n",
       "            \u001b[33mBoundReference\u001b[39m(\n",
       "              \u001b[32m0\u001b[39m,\n",
       "              \u001b[33mObjectType\u001b[39m(class ammonite.$sess.cmd2$Helper$Iris),\n",
       "              true\n",
       "            ),\n",
       "            \u001b[33mList\u001b[39m(\u001b[32m\"top level Product input object\"\u001b[39m)\n",
       "          ),\n",
       "          \u001b[33mList\u001b[39m(\u001b[32m\"- root class: \\\"ammonite.$sess.cmd2.Helper.Iris\\\"\"\u001b[39m)\n",
       "        ),\n",
       "        \u001b[32m\"sepalLength\"\u001b[39m,\n",
       "        DoubleType,\n",
       "        \u001b[33mList\u001b[39m(),\n",
       "        true,\n",
       "        false\n",
       "      ),\n",
       "      \u001b[32m\"sepalLength\"\u001b[39m\n",
       "    ),\n",
       "    \u001b[33mAlias\u001b[39m(\n",
       "      \u001b[33mInvoke\u001b[39m(\n",
       "        \u001b[33mAssertNotNull\u001b[39m(\n",
       "          \u001b[33mAssertNotNull\u001b[39m(\n",
       "            \u001b[33mBoundReference\u001b[39m(\n",
       "              \u001b[32m0\u001b[39m,\n",
       "              \u001b[33mObjectType\u001b[39m(class ammonite.$sess.cmd2$Helper$Iris),\n",
       "              true\n",
       "..."
      ]
     },
     "execution_count": 7,
     "metadata": {},
     "output_type": "execute_result"
    }
   ],
   "source": [
    "implicit val irisEncoder = Encoders.product[Iris]"
   ]
  },
  {
   "cell_type": "markdown",
   "metadata": {},
   "source": [
    "Create a DataRead which will load csv and map to schema of type Iris"
   ]
  },
  {
   "cell_type": "code",
   "execution_count": 8,
   "metadata": {},
   "outputs": [
    {
     "data": {
      "text/plain": [
       "\u001b[36mirisReader\u001b[39m: \u001b[32mreaders\u001b[39m.\u001b[32mCSVProductReader\u001b[39m[\u001b[32mIris\u001b[39m] = com.salesforce.op.readers.CSVProductReader@31367848"
      ]
     },
     "execution_count": 8,
     "metadata": {},
     "output_type": "execute_result"
    }
   ],
   "source": [
    "val irisReader = DataReaders.Simple.csvCase[Iris]()"
   ]
  },
  {
   "cell_type": "markdown",
   "metadata": {},
   "source": [
    "#### Feature Engineering\n",
    "See [Creating Shortcuts for Transformers and Estimators](https://docs.transmogrif.ai/en/stable/developer-guide#creating-shortcuts-for-transformers-and-estimators) for more documentation on how shortcuts for stages can be created. We now define a Feature of type `Vector`, that is a vector representation of all the features we would like to use as predictors in our workflow."
   ]
  },
  {
   "cell_type": "code",
   "execution_count": 9,
   "metadata": {},
   "outputs": [
    {
     "data": {
      "text/plain": [
       "\u001b[36mlabels\u001b[39m: \u001b[32mcom\u001b[39m.\u001b[32msalesforce\u001b[39m.\u001b[32mop\u001b[39m.\u001b[32mfeatures\u001b[39m.\u001b[32mFeatureLike\u001b[39m[\u001b[32mRealNN\u001b[39m] = \u001b[33mFeature\u001b[39m(\n",
       "  \u001b[32m\"irisClass_1-stagesApplied_RealNN_000000000006\"\u001b[39m,\n",
       "  true,\n",
       "  OpStringIndexerNoFilter_000000000006,\n",
       "  \u001b[33mWrappedArray\u001b[39m(\n",
       "    \u001b[33mFeature\u001b[39m(\n",
       "      \u001b[32m\"irisClass\"\u001b[39m,\n",
       "      true,\n",
       "      FeatureGeneratorStage_000000000005,\n",
       "      \u001b[33mList\u001b[39m(),\n",
       "      \u001b[32m\"Text_000000000005\"\u001b[39m,\n",
       "      \u001b[33mList\u001b[39m()\n",
       "    )\n",
       "  ),\n",
       "  \u001b[32m\"RealNN_000000000006\"\u001b[39m,\n",
       "  \u001b[33mList\u001b[39m()\n",
       ")\n",
       "\u001b[36mfeatures\u001b[39m: \u001b[32mcom\u001b[39m.\u001b[32msalesforce\u001b[39m.\u001b[32mop\u001b[39m.\u001b[32mfeatures\u001b[39m.\u001b[32mFeatureLike\u001b[39m[\u001b[32mOPVector\u001b[39m] = \u001b[33mFeature\u001b[39m(\n",
       "  \u001b[32m\"petalLength-petalWidth-sepalLength-sepalWidth_2-stagesApplied_OPVector_000000000008\"\u001b[39m,\n",
       "  false,\n",
       "  VectorsCombiner_000000000008,\n",
       "  \u001b[33mWrappedArray\u001b[39m(\n",
       "    \u001b[33mFeature\u001b[39m(\n",
       "      \u001b[32m\"petalLength-petalWidth-sepalLength-sepalWidth_1-stagesApplied_OPVector_000000000007\"\u001b[39m,\n",
       "      false,\n",
       "      RealVectorizer_000000000007,\n",
       "      \u001b[33mWrappedArray\u001b[39m(\n",
       "        \u001b[33mFeature\u001b[39m(\n",
       "          \u001b[32m\"sepalLength\"\u001b[39m,\n",
       "          false,\n",
       "          FeatureGeneratorStage_000000000001,\n",
       "          \u001b[33mList\u001b[39m(),\n",
       "          \u001b[32m\"Real_000000000001\"\u001b[39m,\n",
       "          \u001b[33mList\u001b[39m()\n",
       "        ),\n",
       "        \u001b[33mFeature\u001b[39m(\n",
       "          \u001b[32m\"sepalWidth\"\u001b[39m,\n",
       "          false,\n",
       "          FeatureGeneratorStage_000000000002,\n",
       "          \u001b[33mList\u001b[39m(),\n",
       "          \u001b[32m\"Real_000000000002\"\u001b[39m,\n",
       "          \u001b[33mList\u001b[39m()\n",
       "        ),\n",
       "        \u001b[33mFeature\u001b[39m(\n",
       "          \u001b[32m\"petalLength\"\u001b[39m,\n",
       "          false,\n",
       "          FeatureGeneratorStage_000000000003,\n",
       "          \u001b[33mList\u001b[39m(),\n",
       "          \u001b[32m\"Real_000000000003\"\u001b[39m,\n",
       "          \u001b[33mList\u001b[39m()\n",
       "        ),\n",
       "        \u001b[33mFeature\u001b[39m(\n",
       "          \u001b[32m\"petalWidth\"\u001b[39m,\n",
       "          false,\n",
       "..."
      ]
     },
     "execution_count": 9,
     "metadata": {},
     "output_type": "execute_result"
    }
   ],
   "source": [
    "val labels = irisClass.indexed()\n",
    "val features = Seq(sepalLength, sepalWidth, petalLength, petalWidth).transmogrify()"
   ]
  },
  {
   "cell_type": "markdown",
   "metadata": {},
   "source": [
    "Next step is to create a DataCutter : Creates instance that will split data into training and test set filtering out any labels that don't meet the minimum fraction cutoff or fall in the top N labels specified"
   ]
  },
  {
   "cell_type": "code",
   "execution_count": 10,
   "metadata": {},
   "outputs": [
    {
     "data": {
      "text/plain": [
       "\u001b[36mrandomSeed\u001b[39m: \u001b[32mLong\u001b[39m = \u001b[32m42L\u001b[39m\n",
       "\u001b[36mcutter\u001b[39m: \u001b[32mDataCutter\u001b[39m = DataCutter_000000000009"
      ]
     },
     "execution_count": 10,
     "metadata": {},
     "output_type": "execute_result"
    }
   ],
   "source": [
    "val randomSeed = 42L\n",
    "val cutter = DataCutter(reserveTestFraction = 0.2, seed = randomSeed)"
   ]
  },
  {
   "cell_type": "markdown",
   "metadata": {},
   "source": [
    "Create a MultiClassModelSelector and specify splitter created above. Then set the input - labels and features."
   ]
  },
  {
   "cell_type": "code",
   "execution_count": 11,
   "metadata": {},
   "outputs": [
    {
     "name": "stderr",
     "output_type": "stream",
     "text": [
      "19/03/18 09:50:24 WARN BLAS: Failed to load implementation from: com.github.fommil.netlib.NativeSystemBLAS\n",
      "19/03/18 09:50:24 WARN BLAS: Failed to load implementation from: com.github.fommil.netlib.NativeRefBLAS\n"
     ]
    },
    {
     "data": {
      "text/plain": [
       "\u001b[36mprediction\u001b[39m: \u001b[32mcom\u001b[39m.\u001b[32msalesforce\u001b[39m.\u001b[32mop\u001b[39m.\u001b[32mfeatures\u001b[39m.\u001b[32mFeatureLike\u001b[39m[\u001b[32mPrediction\u001b[39m] = \u001b[33mFeature\u001b[39m(\n",
       "  \u001b[32m\"irisClass-petalLength-petalWidth-sepalLength-sepalWidth_4-stagesApplied_Prediction_000000000011\"\u001b[39m,\n",
       "  true,\n",
       "  ModelSelector_000000000011,\n",
       "  \u001b[33mWrappedArray\u001b[39m(\n",
       "    \u001b[33mFeature\u001b[39m(\n",
       "      \u001b[32m\"irisClass_1-stagesApplied_RealNN_000000000006\"\u001b[39m,\n",
       "      true,\n",
       "      OpStringIndexerNoFilter_000000000006,\n",
       "      \u001b[33mWrappedArray\u001b[39m(\n",
       "        \u001b[33mFeature\u001b[39m(\n",
       "          \u001b[32m\"irisClass\"\u001b[39m,\n",
       "          true,\n",
       "          FeatureGeneratorStage_000000000005,\n",
       "          \u001b[33mList\u001b[39m(),\n",
       "          \u001b[32m\"Text_000000000005\"\u001b[39m,\n",
       "          \u001b[33mList\u001b[39m()\n",
       "        )\n",
       "      ),\n",
       "      \u001b[32m\"RealNN_000000000006\"\u001b[39m,\n",
       "      \u001b[33mList\u001b[39m()\n",
       "    ),\n",
       "    \u001b[33mFeature\u001b[39m(\n",
       "      \u001b[32m\"petalLength-petalWidth-sepalLength-sepalWidth_2-stagesApplied_OPVector_000000000008\"\u001b[39m,\n",
       "      false,\n",
       "      VectorsCombiner_000000000008,\n",
       "      \u001b[33mWrappedArray\u001b[39m(\n",
       "        \u001b[33mFeature\u001b[39m(\n",
       "          \u001b[32m\"petalLength-petalWidth-sepalLength-sepalWidth_1-stagesApplied_OPVector_000000000007\"\u001b[39m,\n",
       "          false,\n",
       "          RealVectorizer_000000000007,\n",
       "          \u001b[33mWrappedArray\u001b[39m(\n",
       "            \u001b[33mFeature\u001b[39m(\n",
       "              \u001b[32m\"sepalLength\"\u001b[39m,\n",
       "              false,\n",
       "              FeatureGeneratorStage_000000000001,\n",
       "..."
      ]
     },
     "execution_count": 11,
     "metadata": {},
     "output_type": "execute_result"
    }
   ],
   "source": [
    "val prediction = MultiClassificationModelSelector\n",
    "    .withCrossValidation(splitter = Option(cutter), seed = randomSeed)\n",
    "    .setInput(labels, features).getOutput()"
   ]
  },
  {
   "cell_type": "code",
   "execution_count": 12,
   "metadata": {},
   "outputs": [
    {
     "data": {
      "text/plain": [
       "\u001b[36mevaluator\u001b[39m: \u001b[32mevaluators\u001b[39m.\u001b[32mOpMultiClassificationEvaluator\u001b[39m = OpMultiClassificationEvaluator_000000000012"
      ]
     },
     "execution_count": 12,
     "metadata": {},
     "output_type": "execute_result"
    }
   ],
   "source": [
    "val evaluator = Evaluators.MultiClassification.f1().setLabelCol(labels).setPredictionCol(prediction)"
   ]
  },
  {
   "cell_type": "markdown",
   "metadata": {},
   "source": [
    "Everything we’ve done so far has been purely at the level of definitions. We have defined how we would like to extract our raw features from data of type `Iris`, and we have defined how we would like to manipulate them. In order to actually manifest the data described by these features, we need to add them to a workflow and attach a data source to the workflow.\n",
    "\n",
    "Please note the `trainFilePath` is the derived path from folder where host folder is mounted as a volume (/home/beakerx/helloworld) in this case. This can be changed as well depending on the location and volume director you are mounting the data from. You can also create a new DataReader with a new path."
   ]
  },
  {
   "cell_type": "code",
   "execution_count": 13,
   "metadata": {},
   "outputs": [
    {
     "data": {
      "text/plain": [
       "\u001b[32mimport \u001b[39m\u001b[36mspark.implicits._ // Needed for Encoders for the Passenger case class\n",
       "\u001b[39m\n",
       "\u001b[32mimport \u001b[39m\u001b[36mcom.salesforce.op.readers.DataReaders\n",
       "\n",
       "\u001b[39m\n",
       "\u001b[36mtrainFilePath\u001b[39m: \u001b[32mString\u001b[39m = \u001b[32m\"datasets/IrisDataset/iris.data\"\u001b[39m\n",
       "\u001b[36mtrainDataReader\u001b[39m: \u001b[32mreaders\u001b[39m.\u001b[32mCSVProductReader\u001b[39m[\u001b[32mIris\u001b[39m] = com.salesforce.op.readers.CSVProductReader@1fd0a1e2"
      ]
     },
     "execution_count": 13,
     "metadata": {},
     "output_type": "execute_result"
    }
   ],
   "source": [
    "import spark.implicits._ // Needed for Encoders for the Passenger case class\n",
    "import com.salesforce.op.readers.DataReaders\n",
    "\n",
    "val trainFilePath = \"datasets/IrisDataset/iris.data\"\n",
    "// Define a way to read data into our Passenger class from our CSV file\n",
    "val trainDataReader = DataReaders.Simple.csvCase[Iris](\n",
    "  path = Option(trainFilePath)\n",
    "  //key = _.id.toString\n",
    ")"
   ]
  },
  {
   "cell_type": "markdown",
   "metadata": {},
   "source": [
    " Workflow for TransmogrifAI. Takes the final features that the user wants to generate as inputs and constructs the full DAG needed to generate them from those features lineage. Then fits any estimators in the pipeline dag to create a sequence of transformations that are saved in a workflow model."
   ]
  },
  {
   "cell_type": "code",
   "execution_count": 14,
   "metadata": {},
   "outputs": [
    {
     "ename": "",
     "evalue": "",
     "output_type": "error",
     "traceback": [
      "\u001b[31mjava.lang.IllegalArgumentException: requirement failed: No matching data readers for 5 input features: Feature(name = irisClass, uid = Text_000000000005, isResponse = true, originStage = FeatureGeneratorStage_000000000005, parents = [], distributions = []),Feature(name = petalLength, uid = Real_000000000003, isResponse = false, originStage = FeatureGeneratorStage_000000000003, parents = [], distributions = []),Feature(name = petalWidth, uid = Real_000000000004, isResponse = false, originStage = FeatureGeneratorStage_000000000004, parents = [], distributions = []),Feature(name = sepalLength, uid = Real_000000000001, isResponse = false, originStage = FeatureGeneratorStage_000000000001, parents = [], distributions = []),Feature(name = sepalWidth, uid = Real_000000000002, isResponse = false, originStage = FeatureGeneratorStage_000000000002, parents = [], distributions = []). Readers had types: cmd12.this.cmd2.Iris\u001b[39m\n  com.salesforce.op.OpWorkflowCore$class.checkUnmatchedFeatures(\u001b[32mOpWorkflowCore.scala\u001b[39m:\u001b[32m227\u001b[39m)\n  com.salesforce.op.OpWorkflow.checkUnmatchedFeatures(\u001b[32mOpWorkflow.scala\u001b[39m:\u001b[32m59\u001b[39m)\n  com.salesforce.op.OpWorkflowCore$class.setReader(\u001b[32mOpWorkflowCore.scala\u001b[39m:\u001b[32m123\u001b[39m)\n  com.salesforce.op.OpWorkflow.setReader(\u001b[32mOpWorkflow.scala\u001b[39m:\u001b[32m59\u001b[39m)\n  ammonite.$sess.cmd13$Helper.<init>(\u001b[32mcmd13.sc\u001b[39m:\u001b[32m1\u001b[39m)\n  ammonite.$sess.cmd13$.<init>(\u001b[32mcmd13.sc\u001b[39m:\u001b[32m7\u001b[39m)\n  ammonite.$sess.cmd13$.<clinit>(\u001b[32mcmd13.sc\u001b[39m:\u001b[32m-1\u001b[39m)"
     ]
    }
   ],
   "source": [
    "val workflow = new OpWorkflow().setResultFeatures(prediction, labels).setReader(trainDataReader)"
   ]
  },
  {
   "cell_type": "markdown",
   "metadata": {},
   "source": [
    "When we now call ‘train’ on this workflow, it automatically computes and executes the entire DAG of Stages needed to compute the features  fitting all the estimators on the training data in the process. Calling score on the fitted workflow then transforms the underlying training data to produce a DataFrame with the all the features manifested. The score method can optionally be passed an evaluator that produces metrics.\n",
    "`workflow.train()` methods fits all of the estimators in the pipeline and return a pipeline model of only transformers. Uses data loaded as specified by the data reader to generate the initial data set."
   ]
  },
  {
   "cell_type": "code",
   "execution_count": null,
   "metadata": {},
   "outputs": [],
   "source": [
    "val fittedWorkflow = workflow.train()\n",
    "println(\"Summary:\\n\" + fittedWorkflow.summaryPretty())"
   ]
  },
  {
   "cell_type": "markdown",
   "metadata": {},
   "source": [
    "After model has been fitted we use scoreAndEvaluate() function to evaluate the metrics"
   ]
  },
  {
   "cell_type": "code",
   "execution_count": null,
   "metadata": {},
   "outputs": [],
   "source": [
    "println(\"Scoring the model:\\n=================\")\n",
    "val (dataframe, metrics) = fittedWorkflow.scoreAndEvaluate(evaluator = evaluator)\n",
    "\n",
    "println(\"Transformed dataframe columns:\\n--------------------------\")\n",
    "dataframe.columns.foreach(println)\n",
    "\n",
    "println(\"Metrics:\\n------------\")\n",
    "println(metrics)"
   ]
  }
 ],
 "metadata": {
  "kernelspec": {
   "display_name": "Scala (2.11)",
   "language": "scala",
   "name": "scala211"
  },
  "language_info": {
   "codemirror_mode": "text/x-scala",
   "file_extension": ".scala",
   "mimetype": "text/x-scala",
   "name": "scala",
   "nbconvert_exporter": "script",
   "version": "2.11.12"
  },
  "toc": {
   "base_numbering": 1,
   "nav_menu": {},
   "number_sections": false,
   "sideBar": false,
   "skip_h1_title": false,
   "title_cell": "Table of Contents",
   "title_sidebar": "Contents",
   "toc_cell": false,
   "toc_position": {},
   "toc_section_display": false,
   "toc_window_display": false
  }
 },
 "nbformat": 4,
 "nbformat_minor": 2
}
